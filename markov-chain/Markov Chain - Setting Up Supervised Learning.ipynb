{
 "cells": [
  {
   "cell_type": "markdown",
   "metadata": {},
   "source": [
    "# Markov Chain\n",
    "👨‍💻 **Arjun Adhikari**, July 16, 2019"
   ]
  },
  {
   "cell_type": "markdown",
   "metadata": {},
   "source": [
    "- Probabilistic Model for Text / Natural Langugage Generation\n",
    "- Simple and efficient way of generating new text\n",
    "    - Text\n",
    "    - Lyrics\n",
    "    - Story / Novel\n",
    "    - Code"
   ]
  },
  {
   "cell_type": "markdown",
   "metadata": {},
   "source": [
    "```python\n",
    "   text = \"the man was ....they...then....\" ```\n",
    "> X is the sequence of ```k = 3``` and Y is the predicted character of ```K+1``` the character.\n",
    "\n",
    "| X   | Y   | Freq |\n",
    "|-----|-----|------|\n",
    "| the | \" \" | 4    |\n",
    "| the | \"n\" | 2    |\n",
    "| the | \"y\" | 1    |\n",
    "| the | \"i\" | 1    |\n",
    "| the | \"_\" | 1    |\n"
   ]
  },
  {
   "cell_type": "code",
   "execution_count": 1,
   "metadata": {},
   "outputs": [],
   "source": [
    "def generateTable(data, k=4): # K is the number of character we want to consider in X.\n",
    "    \n",
    "    T = {}\n",
    "    for i in range(len(data) - k): \n",
    "        \n",
    "        X = data[i:i+k] # Gives the four characters over the entire data.\n",
    "        Y = data[i+k] # Gives the character just after the fourth character.\n",
    "        \n",
    "#         print(\"X %s and Y %s\"%(X,Y))\n",
    "        \n",
    "        if T.get(X) is None: # If the character is not present earlier.\n",
    "            T[X] = {}\n",
    "            T[X][Y] = 1 # For making a dictionary of single key for X:Y\n",
    "        else:\n",
    "            if T[X].get(Y) is None:\n",
    "                T[X][Y] = 1 # For making dictionary of multiple Y after X like {'Hell': {'o': 2}}            \n",
    "            else:\n",
    "                T[X][Y] += 1 # To increment the count if the same value for key occurs multiple time.  \n",
    "    \n",
    "    return T\n",
    "        "
   ]
  },
  {
   "cell_type": "code",
   "execution_count": 2,
   "metadata": {},
   "outputs": [
    {
     "name": "stdout",
     "output_type": "stream",
     "text": [
      "{'Hell': {'o': 2}, 'ello': {' ': 2}, 'llo ': {'H': 1, 'o': 1}, 'lo H': {'e': 1}, 'o He': {'l': 1}, ' Hel': {'l': 1}, 'lo o': {'r': 1}, 'o or': {' ': 1}, ' or ': {'n': 1}, 'or n': {'o': 1}, 'r no': {'t': 1}}\n"
     ]
    }
   ],
   "source": [
    "T = generateTable(\"Hello Hello or not\")\n",
    "print(T)"
   ]
  },
  {
   "cell_type": "code",
   "execution_count": 3,
   "metadata": {},
   "outputs": [],
   "source": [
    "def convertFreqIntoProb(T):\n",
    "    \n",
    "    for kx in T.keys():\n",
    "        \n",
    "        s = float(sum(T[kx].values()))\n",
    "        \n",
    "        for ky in T[kx].keys():\n",
    "            \n",
    "            T[kx][ky] = T[kx][ky] / s\n",
    "    \n",
    "    return T"
   ]
  },
  {
   "cell_type": "code",
   "execution_count": 4,
   "metadata": {
    "scrolled": true
   },
   "outputs": [
    {
     "data": {
      "text/plain": [
       "{'Hell': {'o': 1.0},\n",
       " 'ello': {' ': 1.0},\n",
       " 'llo ': {'H': 0.5, 'o': 0.5},\n",
       " 'lo H': {'e': 1.0},\n",
       " 'o He': {'l': 1.0},\n",
       " ' Hel': {'l': 1.0},\n",
       " 'lo o': {'r': 1.0},\n",
       " 'o or': {' ': 1.0},\n",
       " ' or ': {'n': 1.0},\n",
       " 'or n': {'o': 1.0},\n",
       " 'r no': {'t': 1.0}}"
      ]
     },
     "execution_count": 4,
     "metadata": {},
     "output_type": "execute_result"
    }
   ],
   "source": [
    "convertFreqIntoProb(T)"
   ]
  },
  {
   "cell_type": "markdown",
   "metadata": {},
   "source": [
    "Let's load a text file for training a 'Speech Generator'"
   ]
  },
  {
   "cell_type": "code",
   "execution_count": 5,
   "metadata": {},
   "outputs": [],
   "source": [
    "def loadText(filepath):\n",
    "    \n",
    "    with open(filepath, encoding='utf8') as f:\n",
    "        return f.read().lower()"
   ]
  },
  {
   "cell_type": "code",
   "execution_count": 6,
   "metadata": {},
   "outputs": [],
   "source": [
    "filepath = \"speech_text.txt\"\n",
    "text = loadText(filepath)"
   ]
  },
  {
   "cell_type": "markdown",
   "metadata": {},
   "source": [
    "Only first 1000 characters are used for training here."
   ]
  },
  {
   "cell_type": "code",
   "execution_count": 7,
   "metadata": {},
   "outputs": [],
   "source": [
    "text = text[:1000]"
   ]
  },
  {
   "cell_type": "code",
   "execution_count": 8,
   "metadata": {},
   "outputs": [
    {
     "name": "stdout",
     "output_type": "stream",
     "text": [
      "my dear countrymen,\n",
      "\n",
      "many of you wish many-many good wishes of the holy festival of independence.\n",
      "\n",
      "today the country is full of confidence. the country is crossing the new heights by plowing the resolve of dreams with hard work. today's sunrise has brought a new consciousness, new excitement, new excitement, new energy.\n",
      "\n",
      "our lovely countrymen, once in 12 years, flowers of nilakurinya grow in our country. this year, on the hills of nilgiris in the south, it is like our nilkurinji flower like the ashok chakra of the tricolor flag, in the festival of freedom of the country.\n",
      "\n",
      "my dear countrymen, we are celebrating this festival of independence, when our daughters uttarakhand, himachal, manipur, telangana, andhra pradesh - our daughters of these states crossed seven seas and coloring the seven seas with a color of tricolor came back\n",
      "\n",
      "my dear countrymen, we are celebrating the festival of independence at that time, when everest triumphs were so many, many of our heroes, many of our daughters\n"
     ]
    }
   ],
   "source": [
    "print(text)"
   ]
  },
  {
   "cell_type": "markdown",
   "metadata": {},
   "source": [
    "### Training our Markov Chain "
   ]
  },
  {
   "cell_type": "code",
   "execution_count": 9,
   "metadata": {},
   "outputs": [],
   "source": [
    "def TrainMarkovChain(text):\n",
    "    \n",
    "    T = generateTable(text)\n",
    "    return convertFreqIntoProb(T)"
   ]
  },
  {
   "cell_type": "code",
   "execution_count": 10,
   "metadata": {},
   "outputs": [
    {
     "name": "stdout",
     "output_type": "stream",
     "text": [
      "{'my d': {'e': 1.0}, 'y de': {'a': 1.0}, ' dea': {'r': 1.0}, 'dear': {' ': 1.0}, 'ear ': {'c': 1.0}, 'ar c': {'o': 1.0}, 'r co': {'u': 1.0}, ' cou': {'n': 1.0}, 'coun': {'t': 1.0}, 'ount': {'r': 1.0}, 'untr': {'y': 1.0}, 'ntry': {'m': 0.5, ' ': 0.25, '.': 0.25}, 'trym': {'e': 1.0}, 'ryme': {'n': 1.0}, 'ymen': {',': 1.0}, 'men,': {'\\n': 0.25, ' ': 0.75}, 'en,\\n': {'\\n': 1.0}, 'n,\\n\\n': {'m': 1.0}, ',\\n\\nm': {'a': 1.0}, '\\n\\nma': {'n': 1.0}, '\\nman': {'y': 1.0}, 'many': {' ': 0.6666666666666666, '-': 0.16666666666666666, ',': 0.16666666666666666}, 'any ': {'o': 0.75, 'g': 0.25}, 'ny o': {'f': 1.0}, 'y of': {' ': 1.0}, ' of ': {'y': 0.0625, 't': 0.3125, 'i': 0.1875, 'c': 0.0625, 'd': 0.0625, 'n': 0.125, 'f': 0.0625, 'o': 0.125}, 'of y': {'o': 1.0}, 'f yo': {'u': 1.0}, ' you': {' ': 1.0}, 'you ': {'w': 1.0}, 'ou w': {'i': 1.0}, 'u wi': {'s': 1.0}, ' wis': {'h': 1.0}, 'wish': {' ': 0.5, 'e': 0.5}, 'ish ': {'m': 1.0}, 'sh m': {'a': 1.0}, 'h ma': {'n': 1.0}, ' man': {'y': 0.8, 'i': 0.2}, 'any-': {'m': 1.0}, 'ny-m': {'a': 1.0}, 'y-ma': {'n': 1.0}, '-man': {'y': 1.0}, 'ny g': {'o': 1.0}, 'y go': {'o': 1.0}, ' goo': {'d': 1.0}, 'good': {' ': 1.0}, 'ood ': {'w': 1.0}, 'od w': {'i': 1.0}, 'd wi': {'s': 1.0}, 'ishe': {'s': 1.0}, 'shes': {' ': 1.0}, 'hes ': {'o': 1.0}, 'es o': {'f': 1.0}, 's of': {' ': 1.0}, 'of t': {'h': 0.8, 'r': 0.2}, 'f th': {'e': 1.0}, ' the': {' ': 0.9285714285714286, 's': 0.07142857142857142}, 'the ': {'h': 0.15384615384615385, 'c': 0.23076923076923078, 'n': 0.07692307692307693, 'r': 0.07692307692307693, 's': 0.15384615384615385, 'a': 0.07692307692307693, 't': 0.07692307692307693, 'f': 0.15384615384615385}, 'he h': {'o': 0.5, 'i': 0.5}, 'e ho': {'l': 1.0}, ' hol': {'y': 1.0}, 'holy': {' ': 1.0}, 'oly ': {'f': 1.0}, 'ly f': {'e': 1.0}, 'y fe': {'s': 1.0}, ' fes': {'t': 1.0}, 'fest': {'i': 1.0}, 'esti': {'v': 1.0}, 'stiv': {'a': 1.0}, 'tiva': {'l': 1.0}, 'ival': {' ': 1.0}, 'val ': {'o': 1.0}, 'al o': {'f': 1.0}, 'l of': {' ': 1.0}, 'of i': {'n': 1.0}, 'f in': {'d': 1.0}, ' ind': {'e': 1.0}, 'inde': {'p': 1.0}, 'ndep': {'e': 1.0}, 'depe': {'n': 1.0}, 'epen': {'d': 1.0}, 'pend': {'e': 1.0}, 'ende': {'n': 1.0}, 'nden': {'c': 1.0}, 'denc': {'e': 1.0}, 'ence': {'.': 0.5, ',': 0.25, ' ': 0.25}, 'nce.': {'\\n': 0.5, ' ': 0.5}, 'ce.\\n': {'\\n': 1.0}, 'e.\\n\\n': {'t': 1.0}, '.\\n\\nt': {'o': 1.0}, '\\n\\nto': {'d': 1.0}, '\\ntod': {'a': 1.0}, 'toda': {'y': 1.0}, 'oday': {' ': 0.5, \"'\": 0.5}, 'day ': {'t': 1.0}, 'ay t': {'h': 1.0}, 'y th': {'e': 1.0}, 'he c': {'o': 1.0}, 'e co': {'u': 1.0}, 'try ': {'i': 1.0}, 'ry i': {'s': 1.0}, 'y is': {' ': 1.0}, ' is ': {'f': 0.3333333333333333, 'c': 0.3333333333333333, 'l': 0.3333333333333333}, 'is f': {'u': 0.5, 'e': 0.5}, 's fu': {'l': 1.0}, ' ful': {'l': 1.0}, 'full': {' ': 1.0}, 'ull ': {'o': 1.0}, 'll o': {'f': 1.0}, 'of c': {'o': 1.0}, 'f co': {'n': 1.0}, ' con': {'f': 0.5, 's': 0.5}, 'conf': {'i': 1.0}, 'onfi': {'d': 1.0}, 'nfid': {'e': 1.0}, 'fide': {'n': 1.0}, 'iden': {'c': 1.0}, 'ce. ': {'t': 1.0}, 'e. t': {'h': 1.0}, '. th': {'e': 0.5, 'i': 0.5}, 'is c': {'r': 1.0}, 's cr': {'o': 1.0}, ' cro': {'s': 1.0}, 'cros': {'s': 1.0}, 'ross': {'i': 0.5, 'e': 0.5}, 'ossi': {'n': 1.0}, 'ssin': {'g': 1.0}, 'sing': {' ': 1.0}, 'ing ': {'t': 1.0}, 'ng t': {'h': 1.0}, 'g th': {'e': 0.8, 'i': 0.2}, 'he n': {'e': 1.0}, 'e ne': {'w': 1.0}, ' new': {' ': 1.0}, 'new ': {'h': 0.2, 'c': 0.2, 'e': 0.6}, 'ew h': {'e': 1.0}, 'w he': {'i': 1.0}, ' hei': {'g': 1.0}, 'heig': {'h': 1.0}, 'eigh': {'t': 1.0}, 'ight': {'s': 1.0}, 'ghts': {' ': 1.0}, 'hts ': {'b': 1.0}, 'ts b': {'y': 1.0}, 's by': {' ': 1.0}, ' by ': {'p': 1.0}, 'by p': {'l': 1.0}, 'y pl': {'o': 1.0}, ' plo': {'w': 1.0}, 'plow': {'i': 1.0}, 'lowi': {'n': 1.0}, 'owin': {'g': 1.0}, 'wing': {' ': 1.0}, 'he r': {'e': 1.0}, 'e re': {'s': 1.0}, ' res': {'o': 1.0}, 'reso': {'l': 1.0}, 'esol': {'v': 1.0}, 'solv': {'e': 1.0}, 'olve': {' ': 1.0}, 'lve ': {'o': 1.0}, 've o': {'f': 1.0}, 'e of': {' ': 1.0}, 'of d': {'r': 1.0}, 'f dr': {'e': 1.0}, ' dre': {'a': 1.0}, 'drea': {'m': 1.0}, 'ream': {'s': 1.0}, 'eams': {' ': 1.0}, 'ams ': {'w': 1.0}, 'ms w': {'i': 1.0}, 's wi': {'t': 1.0}, ' wit': {'h': 1.0}, 'with': {' ': 1.0}, 'ith ': {'h': 0.5, 'a': 0.5}, 'th h': {'a': 1.0}, 'h ha': {'r': 1.0}, ' har': {'d': 1.0}, 'hard': {' ': 1.0}, 'ard ': {'w': 1.0}, 'rd w': {'o': 1.0}, 'd wo': {'r': 1.0}, ' wor': {'k': 1.0}, 'work': {'.': 1.0}, 'ork.': {' ': 1.0}, 'rk. ': {'t': 1.0}, 'k. t': {'o': 1.0}, '. to': {'d': 1.0}, ' tod': {'a': 1.0}, \"day'\": {'s': 1.0}, \"ay's\": {' ': 1.0}, \"y's \": {'s': 1.0}, \"'s s\": {'u': 1.0}, 's su': {'n': 1.0}, ' sun': {'r': 1.0}, 'sunr': {'i': 1.0}, 'unri': {'s': 1.0}, 'nris': {'e': 1.0}, 'rise': {' ': 1.0}, 'ise ': {'h': 1.0}, 'se h': {'a': 1.0}, 'e ha': {'s': 1.0}, ' has': {' ': 1.0}, 'has ': {'b': 1.0}, 'as b': {'r': 1.0}, 's br': {'o': 1.0}, ' bro': {'u': 1.0}, 'brou': {'g': 1.0}, 'roug': {'h': 1.0}, 'ough': {'t': 1.0}, 'ught': {' ': 0.25, 'e': 0.75}, 'ght ': {'a': 1.0}, 'ht a': {' ': 1.0}, 't a ': {'n': 1.0}, ' a n': {'e': 1.0}, 'a ne': {'w': 1.0}, 'ew c': {'o': 1.0}, 'w co': {'n': 1.0}, 'cons': {'c': 1.0}, 'onsc': {'i': 1.0}, 'nsci': {'o': 1.0}, 'scio': {'u': 1.0}, 'ciou': {'s': 1.0}, 'ious': {'n': 1.0}, 'ousn': {'e': 1.0}, 'usne': {'s': 1.0}, 'snes': {'s': 1.0}, 'ness': {',': 1.0}, 'ess,': {' ': 1.0}, 'ss, ': {'n': 1.0}, 's, n': {'e': 1.0}, ', ne': {'w': 1.0}, 'ew e': {'x': 0.6666666666666666, 'n': 0.3333333333333333}, 'w ex': {'c': 1.0}, ' exc': {'i': 1.0}, 'exci': {'t': 1.0}, 'xcit': {'e': 1.0}, 'cite': {'m': 1.0}, 'item': {'e': 1.0}, 'teme': {'n': 1.0}, 'emen': {'t': 1.0}, 'ment': {',': 1.0}, 'ent,': {' ': 1.0}, 'nt, ': {'n': 1.0}, 't, n': {'e': 1.0}, 'w en': {'e': 1.0}, ' ene': {'r': 1.0}, 'ener': {'g': 1.0}, 'nerg': {'y': 1.0}, 'ergy': {'.': 1.0}, 'rgy.': {'\\n': 1.0}, 'gy.\\n': {'\\n': 1.0}, 'y.\\n\\n': {'o': 0.5, 'm': 0.5}, '.\\n\\no': {'u': 1.0}, '\\n\\nou': {'r': 1.0}, '\\nour': {' ': 1.0}, 'our ': {'l': 0.14285714285714285, 'c': 0.14285714285714285, 'n': 0.14285714285714285, 'd': 0.42857142857142855, 'h': 0.14285714285714285}, 'ur l': {'o': 1.0}, 'r lo': {'v': 1.0}, ' lov': {'e': 1.0}, 'love': {'l': 1.0}, 'ovel': {'y': 1.0}, 'vely': {' ': 1.0}, 'ely ': {'c': 1.0}, 'ly c': {'o': 1.0}, 'y co': {'u': 1.0}, 'en, ': {'o': 0.3333333333333333, 'w': 0.6666666666666666}, 'n, o': {'n': 1.0}, ', on': {'c': 0.5, ' ': 0.5}, ' onc': {'e': 1.0}, 'once': {' ': 1.0}, 'nce ': {'i': 0.5, 'a': 0.5}, 'ce i': {'n': 1.0}, 'e in': {' ': 1.0}, ' in ': {'1': 0.25, 'o': 0.25, 't': 0.5}, 'in 1': {'2': 1.0}, 'n 12': {' ': 1.0}, ' 12 ': {'y': 1.0}, '12 y': {'e': 1.0}, '2 ye': {'a': 1.0}, ' yea': {'r': 1.0}, 'year': {'s': 0.5, ',': 0.5}, 'ears': {',': 1.0}, 'ars,': {' ': 1.0}, 'rs, ': {'f': 1.0}, 's, f': {'l': 1.0}, ', fl': {'o': 1.0}, ' flo': {'w': 1.0}, 'flow': {'e': 1.0}, 'lowe': {'r': 1.0}, 'ower': {'s': 0.5, ' ': 0.5}, 'wers': {' ': 1.0}, 'ers ': {'o': 0.6666666666666666, 'u': 0.3333333333333333}, 'rs o': {'f': 1.0}, 'of n': {'i': 1.0}, 'f ni': {'l': 1.0}, ' nil': {'a': 0.3333333333333333, 'g': 0.3333333333333333, 'k': 0.3333333333333333}, 'nila': {'k': 1.0}, 'ilak': {'u': 1.0}, 'laku': {'r': 1.0}, 'akur': {'i': 1.0}, 'kuri': {'n': 1.0}, 'urin': {'y': 0.5, 'j': 0.5}, 'riny': {'a': 1.0}, 'inya': {' ': 1.0}, 'nya ': {'g': 1.0}, 'ya g': {'r': 1.0}, 'a gr': {'o': 1.0}, ' gro': {'w': 1.0}, 'grow': {' ': 1.0}, 'row ': {'i': 1.0}, 'ow i': {'n': 1.0}, 'w in': {' ': 1.0}, 'in o': {'u': 1.0}, 'n ou': {'r': 1.0}, ' our': {' ': 1.0}, 'ur c': {'o': 1.0}, 'try.': {' ': 0.5, '\\n': 0.5}, 'ry. ': {'t': 1.0}, 'y. t': {'h': 1.0}, ' thi': {'s': 1.0}, 'this': {' ': 1.0}, 'his ': {'y': 0.5, 'f': 0.5}, 'is y': {'e': 1.0}, 's ye': {'a': 1.0}, 'ear,': {' ': 1.0}, 'ar, ': {'o': 1.0}, 'r, o': {'n': 1.0}, ' on ': {'t': 1.0}, 'on t': {'h': 1.0}, 'n th': {'e': 1.0}, 'e hi': {'l': 1.0}, ' hil': {'l': 1.0}, 'hill': {'s': 1.0}, 'ills': {' ': 1.0}, 'lls ': {'o': 1.0}, 'ls o': {'f': 1.0}, 'nilg': {'i': 1.0}, 'ilgi': {'r': 1.0}, 'lgir': {'i': 1.0}, 'giri': {'s': 1.0}, 'iris': {' ': 1.0}, 'ris ': {'i': 1.0}, 'is i': {'n': 1.0}, 's in': {' ': 1.0}, 'in t': {'h': 1.0}, 'he s': {'o': 0.5, 'e': 0.5}, 'e so': {'u': 0.5, ' ': 0.5}, ' sou': {'t': 1.0}, 'sout': {'h': 1.0}, 'outh': {',': 1.0}, 'uth,': {' ': 1.0}, 'th, ': {'i': 1.0}, 'h, i': {'t': 1.0}, ', it': {' ': 1.0}, ' it ': {'i': 1.0}, 'it i': {'s': 1.0}, 't is': {' ': 1.0}, 'is l': {'i': 1.0}, 's li': {'k': 1.0}, ' lik': {'e': 1.0}, 'like': {' ': 1.0}, 'ike ': {'o': 0.5, 't': 0.5}, 'ke o': {'u': 1.0}, 'e ou': {'r': 1.0}, 'ur n': {'i': 1.0}, 'r ni': {'l': 1.0}, 'nilk': {'u': 1.0}, 'ilku': {'r': 1.0}, 'lkur': {'i': 1.0}, 'rinj': {'i': 1.0}, 'inji': {' ': 1.0}, 'nji ': {'f': 1.0}, 'ji f': {'l': 1.0}, 'i fl': {'o': 1.0}, 'wer ': {'l': 1.0}, 'er l': {'i': 1.0}, 'r li': {'k': 1.0}, 'ke t': {'h': 1.0}, 'e th': {'e': 1.0}, 'he a': {'s': 1.0}, 'e as': {'h': 1.0}, ' ash': {'o': 1.0}, 'asho': {'k': 1.0}, 'shok': {' ': 1.0}, 'hok ': {'c': 1.0}, 'ok c': {'h': 1.0}, 'k ch': {'a': 1.0}, ' cha': {'k': 1.0}, 'chak': {'r': 1.0}, 'hakr': {'a': 1.0}, 'akra': {' ': 1.0}, 'kra ': {'o': 1.0}, 'ra o': {'f': 1.0}, 'a of': {' ': 1.0}, 'he t': {'r': 1.0}, 'e tr': {'i': 1.0}, ' tri': {'c': 0.6666666666666666, 'u': 0.3333333333333333}, 'tric': {'o': 1.0}, 'rico': {'l': 1.0}, 'icol': {'o': 1.0}, 'colo': {'r': 1.0}, 'olor': {' ': 0.75, 'i': 0.25}, 'lor ': {'f': 0.3333333333333333, 'o': 0.3333333333333333, 'c': 0.3333333333333333}, 'or f': {'l': 1.0}, 'r fl': {'a': 1.0}, ' fla': {'g': 1.0}, 'flag': {',': 1.0}, 'lag,': {' ': 1.0}, 'ag, ': {'i': 1.0}, 'g, i': {'n': 1.0}, ', in': {' ': 1.0}, 'he f': {'e': 1.0}, 'e fe': {'s': 1.0}, 'of f': {'r': 1.0}, 'f fr': {'e': 1.0}, ' fre': {'e': 1.0}, 'free': {'d': 1.0}, 'reed': {'o': 1.0}, 'eedo': {'m': 1.0}, 'edom': {' ': 1.0}, 'dom ': {'o': 1.0}, 'om o': {'f': 1.0}, 'm of': {' ': 1.0}, 'ry.\\n': {'\\n': 1.0}, '.\\n\\nm': {'y': 1.0}, '\\n\\nmy': {' ': 1.0}, '\\nmy ': {'d': 1.0}, 'n, w': {'e': 1.0}, ', we': {' ': 1.0}, ' we ': {'a': 1.0}, 'we a': {'r': 1.0}, 'e ar': {'e': 1.0}, ' are': {' ': 1.0}, 'are ': {'c': 1.0}, 're c': {'e': 1.0}, 'e ce': {'l': 1.0}, ' cel': {'e': 1.0}, 'cele': {'b': 1.0}, 'eleb': {'r': 1.0}, 'lebr': {'a': 1.0}, 'ebra': {'t': 1.0}, 'brat': {'i': 1.0}, 'rati': {'n': 1.0}, 'atin': {'g': 1.0}, 'ting': {' ': 1.0}, 's fe': {'s': 1.0}, 'nce,': {' ': 1.0}, 'ce, ': {'w': 1.0}, 'e, w': {'h': 1.0}, ', wh': {'e': 1.0}, ' whe': {'n': 1.0}, 'when': {' ': 1.0}, 'hen ': {'o': 0.5, 'e': 0.5}, 'en o': {'u': 1.0}, 'ur d': {'a': 1.0}, 'r da': {'u': 1.0}, ' dau': {'g': 1.0}, 'daug': {'h': 1.0}, 'augh': {'t': 1.0}, 'ghte': {'r': 1.0}, 'hter': {'s': 1.0}, 'ters': {' ': 1.0}, 'rs u': {'t': 1.0}, 's ut': {'t': 1.0}, ' utt': {'a': 1.0}, 'utta': {'r': 1.0}, 'ttar': {'a': 1.0}, 'tara': {'k': 1.0}, 'arak': {'h': 1.0}, 'rakh': {'a': 1.0}, 'akha': {'n': 1.0}, 'khan': {'d': 1.0}, 'hand': {',': 1.0}, 'and,': {' ': 1.0}, 'nd, ': {'h': 1.0}, 'd, h': {'i': 1.0}, ', hi': {'m': 1.0}, ' him': {'a': 1.0}, 'hima': {'c': 1.0}, 'imac': {'h': 1.0}, 'mach': {'a': 1.0}, 'acha': {'l': 1.0}, 'chal': {',': 1.0}, 'hal,': {' ': 1.0}, 'al, ': {'m': 1.0}, 'l, m': {'a': 1.0}, ', ma': {'n': 1.0}, 'mani': {'p': 1.0}, 'anip': {'u': 1.0}, 'nipu': {'r': 1.0}, 'ipur': {',': 1.0}, 'pur,': {' ': 1.0}, 'ur, ': {'t': 1.0}, 'r, t': {'e': 1.0}, ', te': {'l': 1.0}, ' tel': {'a': 1.0}, 'tela': {'n': 1.0}, 'elan': {'g': 1.0}, 'lang': {'a': 1.0}, 'anga': {'n': 1.0}, 'ngan': {'a': 1.0}, 'gana': {',': 1.0}, 'ana,': {' ': 1.0}, 'na, ': {'a': 1.0}, 'a, a': {'n': 1.0}, ', an': {'d': 1.0}, ' and': {'h': 0.5, ' ': 0.5}, 'andh': {'r': 1.0}, 'ndhr': {'a': 1.0}, 'dhra': {' ': 1.0}, 'hra ': {'p': 1.0}, 'ra p': {'r': 1.0}, 'a pr': {'a': 1.0}, ' pra': {'d': 1.0}, 'prad': {'e': 1.0}, 'rade': {'s': 1.0}, 'ades': {'h': 1.0}, 'desh': {' ': 1.0}, 'esh ': {'-': 1.0}, 'sh -': {' ': 1.0}, 'h - ': {'o': 1.0}, ' - o': {'u': 1.0}, '- ou': {'r': 1.0}, 'thes': {'e': 1.0}, 'hese': {' ': 1.0}, 'ese ': {'s': 1.0}, 'se s': {'t': 1.0}, 'e st': {'a': 1.0}, ' sta': {'t': 1.0}, 'stat': {'e': 1.0}, 'tate': {'s': 1.0}, 'ates': {' ': 1.0}, 'tes ': {'c': 1.0}, 'es c': {'r': 1.0}, 'osse': {'d': 1.0}, 'ssed': {' ': 1.0}, 'sed ': {'s': 1.0}, 'ed s': {'e': 1.0}, 'd se': {'v': 1.0}, ' sev': {'e': 1.0}, 'seve': {'n': 1.0}, 'even': {' ': 1.0}, 'ven ': {'s': 1.0}, 'en s': {'e': 1.0}, 'n se': {'a': 1.0}, ' sea': {'s': 1.0}, 'seas': {' ': 1.0}, 'eas ': {'a': 0.5, 'w': 0.5}, 'as a': {'n': 1.0}, 's an': {'d': 1.0}, 'and ': {'c': 1.0}, 'nd c': {'o': 1.0}, 'd co': {'l': 1.0}, ' col': {'o': 1.0}, 'lori': {'n': 1.0}, 'orin': {'g': 1.0}, 'ring': {' ': 1.0}, 'e se': {'v': 1.0}, 'as w': {'i': 1.0}, 'th a': {' ': 1.0}, 'h a ': {'c': 1.0}, ' a c': {'o': 1.0}, 'a co': {'l': 1.0}, 'or o': {'f': 1.0}, 'r of': {' ': 1.0}, 'f tr': {'i': 1.0}, 'or c': {'a': 1.0}, 'r ca': {'m': 1.0}, ' cam': {'e': 1.0}, 'came': {' ': 1.0}, 'ame ': {'b': 1.0}, 'me b': {'a': 1.0}, 'e ba': {'c': 1.0}, ' bac': {'k': 1.0}, 'back': {'\\n': 1.0}, 'ack\\n': {'\\n': 1.0}, 'ck\\n\\n': {'m': 1.0}, 'k\\n\\nm': {'y': 1.0}, 'ce a': {'t': 1.0}, 'e at': {' ': 1.0}, ' at ': {'t': 1.0}, 'at t': {'h': 0.5, 'i': 0.5}, 't th': {'a': 1.0}, ' tha': {'t': 1.0}, 'that': {' ': 1.0}, 'hat ': {'t': 1.0}, 't ti': {'m': 1.0}, ' tim': {'e': 1.0}, 'time': {',': 1.0}, 'ime,': {' ': 1.0}, 'me, ': {'w': 1.0}, 'en e': {'v': 1.0}, 'n ev': {'e': 1.0}, ' eve': {'r': 1.0}, 'ever': {'e': 1.0}, 'vere': {'s': 1.0}, 'eres': {'t': 1.0}, 'rest': {' ': 1.0}, 'est ': {'t': 1.0}, 'st t': {'r': 1.0}, 't tr': {'i': 1.0}, 'triu': {'m': 1.0}, 'rium': {'p': 1.0}, 'iump': {'h': 1.0}, 'umph': {'s': 1.0}, 'mphs': {' ': 1.0}, 'phs ': {'w': 1.0}, 'hs w': {'e': 1.0}, 's we': {'r': 1.0}, ' wer': {'e': 1.0}, 'were': {' ': 1.0}, 'ere ': {'s': 1.0}, 're s': {'o': 1.0}, ' so ': {'m': 1.0}, 'so m': {'a': 1.0}, 'o ma': {'n': 1.0}, 'any,': {' ': 1.0}, 'ny, ': {'m': 1.0}, 'y, m': {'a': 1.0}, 'of o': {'u': 1.0}, 'f ou': {'r': 1.0}, 'ur h': {'e': 1.0}, 'r he': {'r': 1.0}, ' her': {'o': 1.0}, 'hero': {'e': 1.0}, 'eroe': {'s': 1.0}, 'roes': {',': 1.0}, 'oes,': {' ': 1.0}, 'es, ': {'m': 1.0}, 's, m': {'a': 1.0}}\n"
     ]
    }
   ],
   "source": [
    "model = TrainMarkovChain(text)\n",
    "print(model)"
   ]
  }
 ],
 "metadata": {
  "kernelspec": {
   "display_name": "Python 3",
   "language": "python",
   "name": "python3"
  },
  "language_info": {
   "codemirror_mode": {
    "name": "ipython",
    "version": 3
   },
   "file_extension": ".py",
   "mimetype": "text/x-python",
   "name": "python",
   "nbconvert_exporter": "python",
   "pygments_lexer": "ipython3",
   "version": "3.7.3"
  }
 },
 "nbformat": 4,
 "nbformat_minor": 2
}

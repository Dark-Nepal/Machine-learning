{
 "cells": [
  {
   "cell_type": "markdown",
   "metadata": {},
   "source": [
    "# Markov Chain"
   ]
  },
  {
   "cell_type": "markdown",
   "metadata": {},
   "source": [
    "- Probabilistic Model for Text / Natural Langugage Generation\n",
    "- Simple and efficient way of generating new text\n",
    "    - Text\n",
    "    - Lyrics\n",
    "    - Story / Novel\n",
    "    - Code"
   ]
  },
  {
   "cell_type": "markdown",
   "metadata": {},
   "source": [
    "```python\n",
    "   text = \"the man was ....they...then....\" ```\n",
    "> X is the sequence of ```k = 3``` and Y is the predicted character of ```K+1``` the character.\n",
    "\n",
    "| X   | Y   | Freq |\n",
    "|-----|-----|------|\n",
    "| the | \" \" | 4    |\n",
    "| the | \"n\" | 2    |\n",
    "| the | \"y\" | 1    |\n",
    "| the | \"i\" | 1    |\n",
    "| the | \"_\" | 1    |\n"
   ]
  },
  {
   "cell_type": "code",
   "execution_count": 25,
   "metadata": {},
   "outputs": [],
   "source": [
    "def generateTable(data, k=4): # K is the number of character we want to consider in X.\n",
    "    \n",
    "    T = {}\n",
    "    for i in range(len(data) - k): \n",
    "        \n",
    "        X = data[i:i+k] # Gives the four characters over the entire data.\n",
    "        Y = data[i+k] # Gives the character just after the fourth character.\n",
    "        \n",
    "#         print(\"X %s and Y %s\"%(X,Y))\n",
    "        \n",
    "        if T.get(X) is None: # If the character is not present earlier.\n",
    "            T[X] = {}\n",
    "            T[X][Y] = 1 # For making a dictionary of single key for X:Y\n",
    "        else:\n",
    "            if T[X].get(Y) is None:\n",
    "                T[X][Y] = 1 # For making dictionary of multiple Y after X like {'Hell': {'o': 2}}            \n",
    "            else:\n",
    "                T[X][Y] += 1 # To increment the count if the same value for key occurs multiple time.  \n",
    "    \n",
    "    return T\n",
    "        "
   ]
  },
  {
   "cell_type": "code",
   "execution_count": 32,
   "metadata": {},
   "outputs": [
    {
     "name": "stdout",
     "output_type": "stream",
     "text": [
      "{'Hell': {'o': 2}, 'ello': {' ': 2}, 'llo ': {'H': 1, 'o': 1}, 'lo H': {'e': 1}, 'o He': {'l': 1}, ' Hel': {'l': 1}, 'lo o': {'r': 1}, 'o or': {' ': 1}, ' or ': {'n': 1}, 'or n': {'o': 1}, 'r no': {'t': 1}}\n"
     ]
    }
   ],
   "source": [
    "T = generateTable(\"Hello Hello or not\")\n",
    "print(T)"
   ]
  },
  {
   "cell_type": "code",
   "execution_count": 30,
   "metadata": {},
   "outputs": [],
   "source": [
    "def convertFreqIntoProb(T):\n",
    "    \n",
    "    for kx in T.keys():\n",
    "        \n",
    "        s = float(sum(T[kx].values()))\n",
    "        \n",
    "        for ky in T[kx].keys():\n",
    "            \n",
    "            T[kx][ky] = T[kx][ky] / s\n",
    "    \n",
    "    return T"
   ]
  },
  {
   "cell_type": "code",
   "execution_count": 31,
   "metadata": {},
   "outputs": [
    {
     "data": {
      "text/plain": [
       "{'Hell': {'o': 1.0},\n",
       " 'ello': {' ': 1.0},\n",
       " 'llo ': {'H': 0.5, 'o': 0.5},\n",
       " 'lo H': {'e': 1.0},\n",
       " 'o He': {'l': 1.0},\n",
       " ' Hel': {'l': 1.0},\n",
       " 'lo o': {'r': 1.0},\n",
       " 'o or': {' ': 1.0},\n",
       " ' or ': {'n': 1.0},\n",
       " 'or n': {'o': 1.0},\n",
       " 'r no': {'t': 1.0}}"
      ]
     },
     "execution_count": 31,
     "metadata": {},
     "output_type": "execute_result"
    }
   ],
   "source": [
    "convertFreqIntoProb(T)"
   ]
  },
  {
   "cell_type": "code",
   "execution_count": null,
   "metadata": {},
   "outputs": [],
   "source": []
  }
 ],
 "metadata": {
  "kernelspec": {
   "display_name": "Python 3",
   "language": "python",
   "name": "python3"
  },
  "language_info": {
   "codemirror_mode": {
    "name": "ipython",
    "version": 3
   },
   "file_extension": ".py",
   "mimetype": "text/x-python",
   "name": "python",
   "nbconvert_exporter": "python",
   "pygments_lexer": "ipython3",
   "version": "3.7.3"
  }
 },
 "nbformat": 4,
 "nbformat_minor": 2
}

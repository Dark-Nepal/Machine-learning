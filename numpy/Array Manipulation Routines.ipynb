{
 "cells": [
  {
   "cell_type": "markdown",
   "metadata": {},
   "source": [
    "# Array Manipulation Routines"
   ]
  },
  {
   "cell_type": "markdown",
   "metadata": {},
   "source": [
    "✍ **Arjun Adhikari**, May 31, 2019"
   ]
  },
  {
   "cell_type": "code",
   "execution_count": 1,
   "metadata": {},
   "outputs": [],
   "source": [
    "import numpy as np"
   ]
  },
  {
   "cell_type": "code",
   "execution_count": 2,
   "metadata": {},
   "outputs": [
    {
     "name": "stdout",
     "output_type": "stream",
     "text": [
      "[0 1 2 3 4 5]\n"
     ]
    }
   ],
   "source": [
    "x = np.arange(6)\n",
    "print(x)"
   ]
  },
  {
   "cell_type": "markdown",
   "metadata": {},
   "source": [
    "## Reshaping\n",
    "\n",
    "Source matrix isn't reshaped, the reshaped matrix is returned."
   ]
  },
  {
   "cell_type": "code",
   "execution_count": 3,
   "metadata": {},
   "outputs": [
    {
     "name": "stdout",
     "output_type": "stream",
     "text": [
      "[0 1 2 3 4 5]\n",
      "\n",
      "[[0 1 2]\n",
      " [3 4 5]]\n"
     ]
    }
   ],
   "source": [
    "y = x.reshape((2,3))\n",
    "print(x,y, sep='\\n\\n')"
   ]
  },
  {
   "cell_type": "markdown",
   "metadata": {},
   "source": [
    "The above statement can also be written as :"
   ]
  },
  {
   "cell_type": "code",
   "execution_count": 4,
   "metadata": {},
   "outputs": [
    {
     "name": "stdout",
     "output_type": "stream",
     "text": [
      "[[0 1]\n",
      " [2 3]\n",
      " [4 5]]\n"
     ]
    }
   ],
   "source": [
    "y = np.reshape(x,(3,2))\n",
    "print(y)"
   ]
  },
  {
   "cell_type": "markdown",
   "metadata": {},
   "source": [
    "Creates an array of 2D dimension of provided row and column from existing one-dimensional array."
   ]
  },
  {
   "cell_type": "code",
   "execution_count": 5,
   "metadata": {},
   "outputs": [
    {
     "name": "stdout",
     "output_type": "stream",
     "text": [
      "[[1 2 3]\n",
      " [4 5 6]]\n"
     ]
    }
   ],
   "source": [
    "x = np.array([[1,2,3],[4,5,6]], dtype=np.uint8)\n",
    "print(x)"
   ]
  },
  {
   "cell_type": "markdown",
   "metadata": {},
   "source": [
    "Reshaping ```2*3``` matrix to ```3*2``` matrix."
   ]
  },
  {
   "cell_type": "code",
   "execution_count": 6,
   "metadata": {},
   "outputs": [
    {
     "name": "stdout",
     "output_type": "stream",
     "text": [
      "[[1 2]\n",
      " [3 4]\n",
      " [5 6]]\n"
     ]
    }
   ],
   "source": [
    "y = np.reshape(x,(3,2))\n",
    "print(y)"
   ]
  },
  {
   "cell_type": "code",
   "execution_count": 7,
   "metadata": {},
   "outputs": [
    {
     "name": "stdout",
     "output_type": "stream",
     "text": [
      "[1 2 3 4 5 6]\n"
     ]
    }
   ],
   "source": [
    "y = np.reshape(x,6)\n",
    "print(y)"
   ]
  },
  {
   "cell_type": "markdown",
   "metadata": {},
   "source": [
    "Returns one dimensional array from existing two dimensional array."
   ]
  },
  {
   "cell_type": "code",
   "execution_count": 8,
   "metadata": {},
   "outputs": [
    {
     "name": "stdout",
     "output_type": "stream",
     "text": [
      "[[1 2 3]\n",
      " [4 5 6]]\n"
     ]
    }
   ],
   "source": [
    "print(x)"
   ]
  },
  {
   "cell_type": "markdown",
   "metadata": {},
   "source": [
    "## Flattening the Array"
   ]
  },
  {
   "cell_type": "code",
   "execution_count": 9,
   "metadata": {},
   "outputs": [
    {
     "name": "stdout",
     "output_type": "stream",
     "text": [
      "[[1 2 3 4]\n",
      " [5 6 7 8]]\n"
     ]
    }
   ],
   "source": [
    "x = np.array([[1,2,3,4],[5,6,7,8]], dtype=np.uint8)\n",
    "print(x)"
   ]
  },
  {
   "cell_type": "code",
   "execution_count": 10,
   "metadata": {},
   "outputs": [
    {
     "name": "stdout",
     "output_type": "stream",
     "text": [
      "[1 2 3 4 5 6 7 8]\n"
     ]
    }
   ],
   "source": [
    "y = np.ravel(x)\n",
    "print(y)"
   ]
  },
  {
   "cell_type": "markdown",
   "metadata": {},
   "source": [
    "It converts the mutli dimensional-matrix into one dimensional matrix."
   ]
  },
  {
   "cell_type": "code",
   "execution_count": 11,
   "metadata": {},
   "outputs": [
    {
     "name": "stdout",
     "output_type": "stream",
     "text": [
      "[1 2 3 4 5 6 7 8]\n"
     ]
    }
   ],
   "source": [
    "y = x.flatten()\n",
    "print(y)"
   ]
  },
  {
   "cell_type": "markdown",
   "metadata": {},
   "source": [
    "Here we have to pass the ndarray object."
   ]
  },
  {
   "cell_type": "code",
   "execution_count": 12,
   "metadata": {},
   "outputs": [
    {
     "name": "stdout",
     "output_type": "stream",
     "text": [
      "[1 2 3 4 5 6 7 8]\n"
     ]
    }
   ],
   "source": [
    "y = x.flatten('C')\n",
    "print(y)"
   ]
  },
  {
   "cell_type": "markdown",
   "metadata": {},
   "source": [
    "Passing the 'C' argument will flatten the array column wise like from first row to second row and third row to last row."
   ]
  },
  {
   "cell_type": "code",
   "execution_count": 13,
   "metadata": {},
   "outputs": [
    {
     "name": "stdout",
     "output_type": "stream",
     "text": [
      "[1 5 2 6 3 7 4 8]\n"
     ]
    }
   ],
   "source": [
    "y = x.flatten('F')\n",
    "print(y)"
   ]
  },
  {
   "cell_type": "markdown",
   "metadata": {},
   "source": [
    "Passing the 'F' argument will flatten the array row wise like from first column to second column and third column to last column."
   ]
  },
  {
   "cell_type": "markdown",
   "metadata": {},
   "source": [
    "## Joining two Array"
   ]
  },
  {
   "cell_type": "code",
   "execution_count": 14,
   "metadata": {},
   "outputs": [
    {
     "name": "stdout",
     "output_type": "stream",
     "text": [
      "int32\n"
     ]
    }
   ],
   "source": [
    "x = np.array([1,2,3])\n",
    "y = np.array([4,5,6])\n",
    "print(x.dtype)"
   ]
  },
  {
   "cell_type": "markdown",
   "metadata": {},
   "source": [
    "By default, the default datatype is int32."
   ]
  },
  {
   "cell_type": "code",
   "execution_count": 15,
   "metadata": {},
   "outputs": [],
   "source": [
    "x = np.array([1,2,3], dtype=np.uint8)\n",
    "y = np.array([4,5,6], dtype=np.uint8)"
   ]
  },
  {
   "cell_type": "code",
   "execution_count": 16,
   "metadata": {},
   "outputs": [],
   "source": [
    "z = np.stack((x,y))"
   ]
  },
  {
   "cell_type": "code",
   "execution_count": 17,
   "metadata": {},
   "outputs": [
    {
     "name": "stdout",
     "output_type": "stream",
     "text": [
      "[[1 2 3]\n",
      " [4 5 6]]\n"
     ]
    }
   ],
   "source": [
    "print(z)"
   ]
  },
  {
   "cell_type": "code",
   "execution_count": 18,
   "metadata": {},
   "outputs": [
    {
     "name": "stdout",
     "output_type": "stream",
     "text": [
      "[[1 2 3]\n",
      " [4 5 6]]\n",
      "(2, 3)\n"
     ]
    }
   ],
   "source": [
    "z = np.stack((x,y), axis = 0)\n",
    "print(z)\n",
    "print(z.shape)"
   ]
  },
  {
   "cell_type": "markdown",
   "metadata": {},
   "source": [
    "Stack both array by axis."
   ]
  },
  {
   "cell_type": "markdown",
   "metadata": {},
   "source": [
    "### Different version of stack functions"
   ]
  },
  {
   "cell_type": "markdown",
   "metadata": {},
   "source": [
    "1. Depth wise Stack"
   ]
  },
  {
   "cell_type": "code",
   "execution_count": 19,
   "metadata": {},
   "outputs": [
    {
     "name": "stdout",
     "output_type": "stream",
     "text": [
      "[[[1 4]\n",
      "  [2 5]\n",
      "  [3 6]]]\n",
      "(1, 3, 2)\n"
     ]
    }
   ],
   "source": [
    "z = np.dstack((x,y))\n",
    "print(z)\n",
    "print(z.shape)"
   ]
  },
  {
   "cell_type": "markdown",
   "metadata": {},
   "source": [
    "2. Horizontal Stack"
   ]
  },
  {
   "cell_type": "code",
   "execution_count": 20,
   "metadata": {},
   "outputs": [
    {
     "name": "stdout",
     "output_type": "stream",
     "text": [
      "[1 2 3 4 5 6]\n",
      "(6,)\n"
     ]
    }
   ],
   "source": [
    "z = np.hstack((x,y))\n",
    "print(z)\n",
    "print(z.shape)"
   ]
  },
  {
   "cell_type": "markdown",
   "metadata": {},
   "source": [
    "3. Vertical Stack"
   ]
  },
  {
   "cell_type": "code",
   "execution_count": 21,
   "metadata": {},
   "outputs": [
    {
     "name": "stdout",
     "output_type": "stream",
     "text": [
      "[[1 2 3]\n",
      " [4 5 6]]\n",
      "(2, 3)\n"
     ]
    }
   ],
   "source": [
    "z = np.vstack((x,y))\n",
    "print(z)\n",
    "print(z.shape)"
   ]
  },
  {
   "cell_type": "markdown",
   "metadata": {},
   "source": [
    "## Split Array"
   ]
  },
  {
   "cell_type": "code",
   "execution_count": 22,
   "metadata": {},
   "outputs": [
    {
     "name": "stdout",
     "output_type": "stream",
     "text": [
      "[0 1 2 3 4 5 6 7 8]\n"
     ]
    }
   ],
   "source": [
    "x = np.arange(9)\n",
    "print(x)"
   ]
  },
  {
   "cell_type": "code",
   "execution_count": 23,
   "metadata": {},
   "outputs": [
    {
     "name": "stdout",
     "output_type": "stream",
     "text": [
      "[0 1 2] [3 4 5] [6 7 8]\n"
     ]
    }
   ],
   "source": [
    "a,b,c = np.split(x,3)\n",
    "print(a,b,c)"
   ]
  },
  {
   "cell_type": "markdown",
   "metadata": {},
   "source": [
    "> Let's split 4 Dimensional Matrix into 3 Dimensional Matrix"
   ]
  },
  {
   "cell_type": "code",
   "execution_count": 24,
   "metadata": {},
   "outputs": [
    {
     "name": "stdout",
     "output_type": "stream",
     "text": [
      "[[[0.67413264 0.06848541 0.24671631 0.06791514]\n",
      "  [0.49199729 0.94608504 0.52118452 0.76189976]\n",
      "  [0.5021493  0.4321398  0.49490728 0.29081617]\n",
      "  [0.39312361 0.89239345 0.01338868 0.87980083]]\n",
      "\n",
      " [[0.51384687 0.28214045 0.22252098 0.32418344]\n",
      "  [0.85325024 0.40648188 0.51185256 0.03493188]\n",
      "  [0.40641338 0.87795405 0.357866   0.50395744]\n",
      "  [0.83202679 0.76808643 0.52616098 0.30828415]]\n",
      "\n",
      " [[0.2284187  0.59818006 0.07820605 0.91532439]\n",
      "  [0.59718624 0.68997411 0.98684564 0.10569504]\n",
      "  [0.57714088 0.0316094  0.66770108 0.20868626]\n",
      "  [0.91205863 0.72611631 0.12892693 0.58218602]]\n",
      "\n",
      " [[0.86597327 0.37932531 0.44593588 0.46468864]\n",
      "  [0.57200574 0.17851967 0.14528635 0.57272511]\n",
      "  [0.83044015 0.69020768 0.04161052 0.6909066 ]\n",
      "  [0.28426442 0.26942348 0.35903902 0.63754279]]]\n"
     ]
    }
   ],
   "source": [
    "x = np.random.rand(4,4,4)\n",
    "print(x)"
   ]
  },
  {
   "cell_type": "code",
   "execution_count": 25,
   "metadata": {},
   "outputs": [
    {
     "name": "stdout",
     "output_type": "stream",
     "text": [
      "[[[0.67413264 0.06848541 0.24671631 0.06791514]\n",
      "  [0.49199729 0.94608504 0.52118452 0.76189976]\n",
      "  [0.5021493  0.4321398  0.49490728 0.29081617]\n",
      "  [0.39312361 0.89239345 0.01338868 0.87980083]]\n",
      "\n",
      " [[0.51384687 0.28214045 0.22252098 0.32418344]\n",
      "  [0.85325024 0.40648188 0.51185256 0.03493188]\n",
      "  [0.40641338 0.87795405 0.357866   0.50395744]\n",
      "  [0.83202679 0.76808643 0.52616098 0.30828415]]]\n",
      "\n",
      "\n",
      "\n",
      "[[[0.2284187  0.59818006 0.07820605 0.91532439]\n",
      "  [0.59718624 0.68997411 0.98684564 0.10569504]\n",
      "  [0.57714088 0.0316094  0.66770108 0.20868626]\n",
      "  [0.91205863 0.72611631 0.12892693 0.58218602]]\n",
      "\n",
      " [[0.86597327 0.37932531 0.44593588 0.46468864]\n",
      "  [0.57200574 0.17851967 0.14528635 0.57272511]\n",
      "  [0.83044015 0.69020768 0.04161052 0.6909066 ]\n",
      "  [0.28426442 0.26942348 0.35903902 0.63754279]]]\n"
     ]
    }
   ],
   "source": [
    "y,z = np.split(x,2)\n",
    "print(y,z, sep = \"\\n\\n\\n\\n\")"
   ]
  },
  {
   "cell_type": "markdown",
   "metadata": {},
   "source": [
    "Here the four dimensional matrix is splitted into two three dimensional matrix."
   ]
  },
  {
   "cell_type": "markdown",
   "metadata": {},
   "source": [
    "### Different version of split functions"
   ]
  },
  {
   "cell_type": "markdown",
   "metadata": {},
   "source": [
    "1. Depth Wise Splitting"
   ]
  },
  {
   "cell_type": "code",
   "execution_count": 26,
   "metadata": {},
   "outputs": [
    {
     "name": "stdout",
     "output_type": "stream",
     "text": [
      "Shape of Matrix Formed : \n",
      " y : (4, 4, 2) \n",
      " z : (4, 4, 2)\n",
      "\n",
      "\n",
      "[[[0.67413264 0.06848541]\n",
      "  [0.49199729 0.94608504]\n",
      "  [0.5021493  0.4321398 ]\n",
      "  [0.39312361 0.89239345]]\n",
      "\n",
      " [[0.51384687 0.28214045]\n",
      "  [0.85325024 0.40648188]\n",
      "  [0.40641338 0.87795405]\n",
      "  [0.83202679 0.76808643]]\n",
      "\n",
      " [[0.2284187  0.59818006]\n",
      "  [0.59718624 0.68997411]\n",
      "  [0.57714088 0.0316094 ]\n",
      "  [0.91205863 0.72611631]]\n",
      "\n",
      " [[0.86597327 0.37932531]\n",
      "  [0.57200574 0.17851967]\n",
      "  [0.83044015 0.69020768]\n",
      "  [0.28426442 0.26942348]]]\n",
      "\n",
      "\n",
      "\n",
      "[[[0.24671631 0.06791514]\n",
      "  [0.52118452 0.76189976]\n",
      "  [0.49490728 0.29081617]\n",
      "  [0.01338868 0.87980083]]\n",
      "\n",
      " [[0.22252098 0.32418344]\n",
      "  [0.51185256 0.03493188]\n",
      "  [0.357866   0.50395744]\n",
      "  [0.52616098 0.30828415]]\n",
      "\n",
      " [[0.07820605 0.91532439]\n",
      "  [0.98684564 0.10569504]\n",
      "  [0.66770108 0.20868626]\n",
      "  [0.12892693 0.58218602]]\n",
      "\n",
      " [[0.44593588 0.46468864]\n",
      "  [0.14528635 0.57272511]\n",
      "  [0.04161052 0.6909066 ]\n",
      "  [0.35903902 0.63754279]]]\n"
     ]
    }
   ],
   "source": [
    "y,z = np.dsplit(x,2)\n",
    "print('Shape of Matrix Formed : \\n y : {} \\n z : {}\\n\\n'.format(y.shape, z.shape))\n",
    "print(y,z, sep=\"\\n\\n\\n\\n\")"
   ]
  },
  {
   "cell_type": "markdown",
   "metadata": {},
   "source": [
    "2. Horizontal Splitting"
   ]
  },
  {
   "cell_type": "code",
   "execution_count": 27,
   "metadata": {},
   "outputs": [
    {
     "name": "stdout",
     "output_type": "stream",
     "text": [
      "Shape of Matrix Formed : \n",
      " y : (4, 2, 4) \n",
      " z : (4, 2, 4)\n",
      "\n",
      "\n",
      "[[[0.67413264 0.06848541 0.24671631 0.06791514]\n",
      "  [0.49199729 0.94608504 0.52118452 0.76189976]]\n",
      "\n",
      " [[0.51384687 0.28214045 0.22252098 0.32418344]\n",
      "  [0.85325024 0.40648188 0.51185256 0.03493188]]\n",
      "\n",
      " [[0.2284187  0.59818006 0.07820605 0.91532439]\n",
      "  [0.59718624 0.68997411 0.98684564 0.10569504]]\n",
      "\n",
      " [[0.86597327 0.37932531 0.44593588 0.46468864]\n",
      "  [0.57200574 0.17851967 0.14528635 0.57272511]]]\n",
      "\n",
      "\n",
      "\n",
      "[[[0.5021493  0.4321398  0.49490728 0.29081617]\n",
      "  [0.39312361 0.89239345 0.01338868 0.87980083]]\n",
      "\n",
      " [[0.40641338 0.87795405 0.357866   0.50395744]\n",
      "  [0.83202679 0.76808643 0.52616098 0.30828415]]\n",
      "\n",
      " [[0.57714088 0.0316094  0.66770108 0.20868626]\n",
      "  [0.91205863 0.72611631 0.12892693 0.58218602]]\n",
      "\n",
      " [[0.83044015 0.69020768 0.04161052 0.6909066 ]\n",
      "  [0.28426442 0.26942348 0.35903902 0.63754279]]]\n"
     ]
    }
   ],
   "source": [
    "y,z = np.hsplit(x,2)\n",
    "print('Shape of Matrix Formed : \\n y : {} \\n z : {}\\n\\n'.format(y.shape, z.shape))\n",
    "print(y,z, sep=\"\\n\\n\\n\\n\")"
   ]
  },
  {
   "cell_type": "markdown",
   "metadata": {},
   "source": [
    "3. Vertical Splitting"
   ]
  },
  {
   "cell_type": "code",
   "execution_count": 28,
   "metadata": {},
   "outputs": [
    {
     "name": "stdout",
     "output_type": "stream",
     "text": [
      "Shape of Matrix Formed : \n",
      " y : (2, 4, 4) \n",
      " z : (2, 4, 4)\n",
      "\n",
      "\n",
      "[[[0.67413264 0.06848541 0.24671631 0.06791514]\n",
      "  [0.49199729 0.94608504 0.52118452 0.76189976]\n",
      "  [0.5021493  0.4321398  0.49490728 0.29081617]\n",
      "  [0.39312361 0.89239345 0.01338868 0.87980083]]\n",
      "\n",
      " [[0.51384687 0.28214045 0.22252098 0.32418344]\n",
      "  [0.85325024 0.40648188 0.51185256 0.03493188]\n",
      "  [0.40641338 0.87795405 0.357866   0.50395744]\n",
      "  [0.83202679 0.76808643 0.52616098 0.30828415]]]\n",
      "\n",
      "\n",
      "\n",
      "[[[0.2284187  0.59818006 0.07820605 0.91532439]\n",
      "  [0.59718624 0.68997411 0.98684564 0.10569504]\n",
      "  [0.57714088 0.0316094  0.66770108 0.20868626]\n",
      "  [0.91205863 0.72611631 0.12892693 0.58218602]]\n",
      "\n",
      " [[0.86597327 0.37932531 0.44593588 0.46468864]\n",
      "  [0.57200574 0.17851967 0.14528635 0.57272511]\n",
      "  [0.83044015 0.69020768 0.04161052 0.6909066 ]\n",
      "  [0.28426442 0.26942348 0.35903902 0.63754279]]]\n"
     ]
    }
   ],
   "source": [
    "y,z = np.vsplit(x,2)\n",
    "print('Shape of Matrix Formed : \\n y : {} \\n z : {}\\n\\n'.format(y.shape, z.shape))\n",
    "\n",
    "print(y,z, sep=\"\\n\\n\\n\\n\")"
   ]
  },
  {
   "cell_type": "markdown",
   "metadata": {},
   "source": [
    "## Flipping Matrix"
   ]
  },
  {
   "cell_type": "code",
   "execution_count": 29,
   "metadata": {},
   "outputs": [
    {
     "name": "stdout",
     "output_type": "stream",
     "text": [
      "[[ 0  1  2  3]\n",
      " [ 4  5  6  7]\n",
      " [ 8  9 10 11]\n",
      " [12 13 14 15]]\n"
     ]
    }
   ],
   "source": [
    "x = np.arange(16).reshape(4,4)\n",
    "print(x)"
   ]
  },
  {
   "cell_type": "code",
   "execution_count": 30,
   "metadata": {},
   "outputs": [
    {
     "name": "stdout",
     "output_type": "stream",
     "text": [
      "[[ 3  2  1  0]\n",
      " [ 7  6  5  4]\n",
      " [11 10  9  8]\n",
      " [15 14 13 12]]\n"
     ]
    }
   ],
   "source": [
    "y = np.flip(x, axis = 1)\n",
    "print(y)"
   ]
  },
  {
   "cell_type": "code",
   "execution_count": 31,
   "metadata": {},
   "outputs": [
    {
     "name": "stdout",
     "output_type": "stream",
     "text": [
      "[[ 3  2  1  0]\n",
      " [ 7  6  5  4]\n",
      " [11 10  9  8]\n",
      " [15 14 13 12]]\n"
     ]
    }
   ],
   "source": [
    "y = np.flip(x, axis = -1)\n",
    "print(y)"
   ]
  },
  {
   "cell_type": "code",
   "execution_count": 32,
   "metadata": {},
   "outputs": [
    {
     "name": "stdout",
     "output_type": "stream",
     "text": [
      "[[12 13 14 15]\n",
      " [ 8  9 10 11]\n",
      " [ 4  5  6  7]\n",
      " [ 0  1  2  3]]\n"
     ]
    }
   ],
   "source": [
    "y = np.flip(x, axis = 0)\n",
    "print(y)"
   ]
  },
  {
   "cell_type": "code",
   "execution_count": 33,
   "metadata": {
    "scrolled": false
   },
   "outputs": [
    {
     "name": "stdout",
     "output_type": "stream",
     "text": [
      "[[12 13 14 15]\n",
      " [ 8  9 10 11]\n",
      " [ 4  5  6  7]\n",
      " [ 0  1  2  3]]\n"
     ]
    }
   ],
   "source": [
    "y = np.flip(x, axis = -2)\n",
    "print(y)"
   ]
  },
  {
   "cell_type": "markdown",
   "metadata": {},
   "source": [
    "If we ever try to create flip by axis of the dimension of matrix :   \n",
    "```AxisError: axis 2 is out of bounds for array of dimension 2```"
   ]
  },
  {
   "cell_type": "markdown",
   "metadata": {},
   "source": [
    "1. Flip from left to right"
   ]
  },
  {
   "cell_type": "code",
   "execution_count": 34,
   "metadata": {},
   "outputs": [
    {
     "name": "stdout",
     "output_type": "stream",
     "text": [
      "[[ 0  1  2  3]\n",
      " [ 4  5  6  7]\n",
      " [ 8  9 10 11]\n",
      " [12 13 14 15]]\n",
      "[[ 3  2  1  0]\n",
      " [ 7  6  5  4]\n",
      " [11 10  9  8]\n",
      " [15 14 13 12]]\n"
     ]
    }
   ],
   "source": [
    "print(x)\n",
    "y = np.fliplr(x)\n",
    "print(y)"
   ]
  },
  {
   "cell_type": "markdown",
   "metadata": {},
   "source": [
    "```np.fliplr()``` is equivalent to ```np.flip(axis=1)```."
   ]
  },
  {
   "cell_type": "code",
   "execution_count": 35,
   "metadata": {},
   "outputs": [
    {
     "name": "stdout",
     "output_type": "stream",
     "text": [
      "[[ 0  1  2  3]\n",
      " [ 4  5  6  7]\n",
      " [ 8  9 10 11]\n",
      " [12 13 14 15]]\n",
      "[[12 13 14 15]\n",
      " [ 8  9 10 11]\n",
      " [ 4  5  6  7]\n",
      " [ 0  1  2  3]]\n"
     ]
    }
   ],
   "source": [
    "print(x)\n",
    "y = np.flipud(x)\n",
    "print(y)"
   ]
  },
  {
   "cell_type": "markdown",
   "metadata": {},
   "source": [
    "```np.fliplr()``` is equivalent to ```np.flip(axis=0)```."
   ]
  },
  {
   "cell_type": "markdown",
   "metadata": {},
   "source": [
    "## Rolling matrix"
   ]
  },
  {
   "cell_type": "code",
   "execution_count": 36,
   "metadata": {},
   "outputs": [
    {
     "name": "stdout",
     "output_type": "stream",
     "text": [
      "[[ 8  9 10 11]\n",
      " [12 13 14 15]\n",
      " [ 0  1  2  3]\n",
      " [ 4  5  6  7]]\n"
     ]
    }
   ],
   "source": [
    "y = np.roll(x,8)\n",
    "print(y)"
   ]
  },
  {
   "cell_type": "markdown",
   "metadata": {},
   "source": [
    "First 8 elements are rolled to later 8 elements."
   ]
  },
  {
   "cell_type": "code",
   "execution_count": 37,
   "metadata": {},
   "outputs": [
    {
     "name": "stdout",
     "output_type": "stream",
     "text": [
      "[[12 13 14 15]\n",
      " [ 0  1  2  3]\n",
      " [ 4  5  6  7]\n",
      " [ 8  9 10 11]]\n"
     ]
    }
   ],
   "source": [
    "y = np.roll(x,4)\n",
    "print(y)"
   ]
  },
  {
   "cell_type": "markdown",
   "metadata": {},
   "source": [
    "First 4 elements are rolled to later 4 elements. Similar is the case for second and third 4 elements."
   ]
  },
  {
   "cell_type": "markdown",
   "metadata": {},
   "source": [
    "## Rotating Matrix"
   ]
  },
  {
   "cell_type": "code",
   "execution_count": 38,
   "metadata": {},
   "outputs": [
    {
     "name": "stdout",
     "output_type": "stream",
     "text": [
      "[[ 0  1  2  3]\n",
      " [ 4  5  6  7]\n",
      " [ 8  9 10 11]\n",
      " [12 13 14 15]]\n",
      "[[ 3  7 11 15]\n",
      " [ 2  6 10 14]\n",
      " [ 1  5  9 13]\n",
      " [ 0  4  8 12]]\n"
     ]
    }
   ],
   "source": [
    "print(x)\n",
    "y = np.rot90(x)\n",
    "print(y)"
   ]
  },
  {
   "cell_type": "code",
   "execution_count": 39,
   "metadata": {},
   "outputs": [
    {
     "name": "stdout",
     "output_type": "stream",
     "text": [
      "[[ 0  1  2  3]\n",
      " [ 4  5  6  7]\n",
      " [ 8  9 10 11]\n",
      " [12 13 14 15]]\n",
      "[[ 3  7 11 15]\n",
      " [ 2  6 10 14]\n",
      " [ 1  5  9 13]\n",
      " [ 0  4  8 12]]\n"
     ]
    }
   ],
   "source": [
    "print(x)\n",
    "y = np.rot90(x)\n",
    "print(y)"
   ]
  },
  {
   "cell_type": "markdown",
   "metadata": {},
   "source": [
    "Rotation is available for only 90 degrees."
   ]
  }
 ],
 "metadata": {
  "kernelspec": {
   "display_name": "Python 3",
   "language": "python",
   "name": "python3"
  },
  "language_info": {
   "codemirror_mode": {
    "name": "ipython",
    "version": 3
   },
   "file_extension": ".py",
   "mimetype": "text/x-python",
   "name": "python",
   "nbconvert_exporter": "python",
   "pygments_lexer": "ipython3",
   "version": "3.7.3"
  }
 },
 "nbformat": 4,
 "nbformat_minor": 2
}

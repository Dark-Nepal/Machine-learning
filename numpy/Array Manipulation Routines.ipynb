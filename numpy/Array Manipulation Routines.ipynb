{
 "cells": [
  {
   "cell_type": "markdown",
   "metadata": {},
   "source": [
    "# Array Manipulation Routines"
   ]
  },
  {
   "cell_type": "markdown",
   "metadata": {},
   "source": [
    "✍ **Arjun Adhikari**, May 31, 2019"
   ]
  },
  {
   "cell_type": "code",
   "execution_count": 1,
   "metadata": {},
   "outputs": [],
   "source": [
    "import numpy as np"
   ]
  },
  {
   "cell_type": "code",
   "execution_count": 2,
   "metadata": {},
   "outputs": [
    {
     "name": "stdout",
     "output_type": "stream",
     "text": [
      "[0 1 2 3 4 5]\n"
     ]
    }
   ],
   "source": [
    "x = np.arange(6)\n",
    "print(x)"
   ]
  },
  {
   "cell_type": "markdown",
   "metadata": {},
   "source": [
    "## Reshaping\n",
    "\n",
    "Source matrix isn't reshaped, the reshaped matrix is returned."
   ]
  },
  {
   "cell_type": "code",
   "execution_count": 3,
   "metadata": {},
   "outputs": [
    {
     "name": "stdout",
     "output_type": "stream",
     "text": [
      "[0 1 2 3 4 5]\n",
      "\n",
      "[[0 1 2]\n",
      " [3 4 5]]\n"
     ]
    }
   ],
   "source": [
    "y = x.reshape((2,3))\n",
    "print(x,y, sep='\\n\\n')"
   ]
  },
  {
   "cell_type": "markdown",
   "metadata": {},
   "source": [
    "The above statement can also be written as :"
   ]
  },
  {
   "cell_type": "code",
   "execution_count": 4,
   "metadata": {},
   "outputs": [
    {
     "name": "stdout",
     "output_type": "stream",
     "text": [
      "[[0 1]\n",
      " [2 3]\n",
      " [4 5]]\n"
     ]
    }
   ],
   "source": [
    "y = np.reshape(x,(3,2))\n",
    "print(y)"
   ]
  },
  {
   "cell_type": "markdown",
   "metadata": {},
   "source": [
    "Creates an array of 2D dimension of provided row and column from existing one-dimensional array."
   ]
  },
  {
   "cell_type": "code",
   "execution_count": 5,
   "metadata": {},
   "outputs": [
    {
     "name": "stdout",
     "output_type": "stream",
     "text": [
      "[[1 2 3]\n",
      " [4 5 6]]\n"
     ]
    }
   ],
   "source": [
    "x = np.array([[1,2,3],[4,5,6]], dtype=np.uint8)\n",
    "print(x)"
   ]
  },
  {
   "cell_type": "markdown",
   "metadata": {},
   "source": [
    "Reshaping ```2*3``` matrix to ```3*2``` matrix."
   ]
  },
  {
   "cell_type": "code",
   "execution_count": 6,
   "metadata": {},
   "outputs": [
    {
     "name": "stdout",
     "output_type": "stream",
     "text": [
      "[[1 2]\n",
      " [3 4]\n",
      " [5 6]]\n"
     ]
    }
   ],
   "source": [
    "y = np.reshape(x,(3,2))\n",
    "print(y)"
   ]
  },
  {
   "cell_type": "code",
   "execution_count": 7,
   "metadata": {},
   "outputs": [
    {
     "name": "stdout",
     "output_type": "stream",
     "text": [
      "[1 2 3 4 5 6]\n"
     ]
    }
   ],
   "source": [
    "y = np.reshape(x,6)\n",
    "print(y)"
   ]
  },
  {
   "cell_type": "markdown",
   "metadata": {},
   "source": [
    "Returns one dimensional array from existing two dimensional array."
   ]
  },
  {
   "cell_type": "code",
   "execution_count": 8,
   "metadata": {},
   "outputs": [
    {
     "name": "stdout",
     "output_type": "stream",
     "text": [
      "[[1 2 3]\n",
      " [4 5 6]]\n"
     ]
    }
   ],
   "source": [
    "print(x)"
   ]
  },
  {
   "cell_type": "markdown",
   "metadata": {},
   "source": [
    "## Flattening the Array"
   ]
  },
  {
   "cell_type": "code",
   "execution_count": 9,
   "metadata": {},
   "outputs": [
    {
     "name": "stdout",
     "output_type": "stream",
     "text": [
      "[[1 2 3 4]\n",
      " [5 6 7 8]]\n"
     ]
    }
   ],
   "source": [
    "x = np.array([[1,2,3,4],[5,6,7,8]], dtype=np.uint8)\n",
    "print(x)"
   ]
  },
  {
   "cell_type": "code",
   "execution_count": 10,
   "metadata": {},
   "outputs": [
    {
     "name": "stdout",
     "output_type": "stream",
     "text": [
      "[1 2 3 4 5 6 7 8]\n"
     ]
    }
   ],
   "source": [
    "y = np.ravel(x)\n",
    "print(y)"
   ]
  },
  {
   "cell_type": "markdown",
   "metadata": {},
   "source": [
    "It converts the mutli dimensional-matrix into one dimensional matrix."
   ]
  },
  {
   "cell_type": "code",
   "execution_count": 11,
   "metadata": {},
   "outputs": [
    {
     "name": "stdout",
     "output_type": "stream",
     "text": [
      "[1 2 3 4 5 6 7 8]\n"
     ]
    }
   ],
   "source": [
    "y = x.flatten()\n",
    "print(y)"
   ]
  },
  {
   "cell_type": "markdown",
   "metadata": {},
   "source": [
    "Here we have to pass the ndarray object."
   ]
  },
  {
   "cell_type": "code",
   "execution_count": 12,
   "metadata": {},
   "outputs": [
    {
     "name": "stdout",
     "output_type": "stream",
     "text": [
      "[1 2 3 4 5 6 7 8]\n"
     ]
    }
   ],
   "source": [
    "y = x.flatten('C')\n",
    "print(y)"
   ]
  },
  {
   "cell_type": "markdown",
   "metadata": {},
   "source": [
    "Passing the 'C' argument will flatten the array column wise like from first row to second row and third row to last row."
   ]
  },
  {
   "cell_type": "code",
   "execution_count": 13,
   "metadata": {},
   "outputs": [
    {
     "name": "stdout",
     "output_type": "stream",
     "text": [
      "[1 5 2 6 3 7 4 8]\n"
     ]
    }
   ],
   "source": [
    "y = x.flatten('F')\n",
    "print(y)"
   ]
  },
  {
   "cell_type": "markdown",
   "metadata": {},
   "source": [
    "Passing the 'F' argument will flatten the array row wise like from first column to second column and third column to last column."
   ]
  },
  {
   "cell_type": "markdown",
   "metadata": {},
   "source": [
    "## Joining two Array"
   ]
  },
  {
   "cell_type": "code",
   "execution_count": 14,
   "metadata": {},
   "outputs": [
    {
     "name": "stdout",
     "output_type": "stream",
     "text": [
      "int32\n"
     ]
    }
   ],
   "source": [
    "x = np.array([1,2,3])\n",
    "y = np.array([4,5,6])\n",
    "print(x.dtype)"
   ]
  },
  {
   "cell_type": "markdown",
   "metadata": {},
   "source": [
    "By default, the default datatype is int32."
   ]
  },
  {
   "cell_type": "code",
   "execution_count": 15,
   "metadata": {},
   "outputs": [],
   "source": [
    "x = np.array([1,2,3], dtype=np.uint8)\n",
    "y = np.array([4,5,6], dtype=np.uint8)"
   ]
  },
  {
   "cell_type": "code",
   "execution_count": 16,
   "metadata": {},
   "outputs": [],
   "source": [
    "z = np.stack((x,y))"
   ]
  },
  {
   "cell_type": "code",
   "execution_count": 17,
   "metadata": {},
   "outputs": [
    {
     "name": "stdout",
     "output_type": "stream",
     "text": [
      "[[1 2 3]\n",
      " [4 5 6]]\n"
     ]
    }
   ],
   "source": [
    "print(z)"
   ]
  },
  {
   "cell_type": "code",
   "execution_count": 20,
   "metadata": {},
   "outputs": [
    {
     "name": "stdout",
     "output_type": "stream",
     "text": [
      "[[1 2 3]\n",
      " [4 5 6]]\n",
      "(2, 3)\n"
     ]
    }
   ],
   "source": [
    "z = np.stack((x,y), axis = 0)\n",
    "print(z)\n",
    "print(z.shape)"
   ]
  },
  {
   "cell_type": "markdown",
   "metadata": {},
   "source": [
    "Stack both array by axis."
   ]
  },
  {
   "cell_type": "markdown",
   "metadata": {},
   "source": [
    "### Different version of stack functions"
   ]
  },
  {
   "cell_type": "markdown",
   "metadata": {},
   "source": [
    "1. Depth wise Stack"
   ]
  },
  {
   "cell_type": "code",
   "execution_count": 24,
   "metadata": {},
   "outputs": [
    {
     "name": "stdout",
     "output_type": "stream",
     "text": [
      "[[[1 4]\n",
      "  [2 5]\n",
      "  [3 6]]]\n",
      "(1, 3, 2)\n"
     ]
    }
   ],
   "source": [
    "z = np.dstack((x,y))\n",
    "print(z)\n",
    "print(z.shape)"
   ]
  },
  {
   "cell_type": "markdown",
   "metadata": {},
   "source": [
    "2. Horizontal Stack"
   ]
  },
  {
   "cell_type": "code",
   "execution_count": 25,
   "metadata": {},
   "outputs": [
    {
     "name": "stdout",
     "output_type": "stream",
     "text": [
      "[1 2 3 4 5 6]\n",
      "(6,)\n"
     ]
    }
   ],
   "source": [
    "z = np.hstack((x,y))\n",
    "print(z)\n",
    "print(z.shape)"
   ]
  },
  {
   "cell_type": "markdown",
   "metadata": {},
   "source": [
    "3. Vertical Stack"
   ]
  },
  {
   "cell_type": "code",
   "execution_count": 27,
   "metadata": {},
   "outputs": [
    {
     "name": "stdout",
     "output_type": "stream",
     "text": [
      "[[1 2 3]\n",
      " [4 5 6]]\n",
      "(2, 3)\n"
     ]
    }
   ],
   "source": [
    "z = np.vstack((x,y))\n",
    "print(z)\n",
    "print(z.shape)"
   ]
  },
  {
   "cell_type": "markdown",
   "metadata": {},
   "source": [
    "## Split Array"
   ]
  },
  {
   "cell_type": "code",
   "execution_count": 28,
   "metadata": {},
   "outputs": [
    {
     "name": "stdout",
     "output_type": "stream",
     "text": [
      "[0 1 2 3 4 5 6 7 8]\n"
     ]
    }
   ],
   "source": [
    "x = np.arange(9)\n",
    "print(x)"
   ]
  },
  {
   "cell_type": "code",
   "execution_count": 33,
   "metadata": {},
   "outputs": [
    {
     "name": "stdout",
     "output_type": "stream",
     "text": [
      "[0 1 2] [3 4 5] [6 7 8]\n"
     ]
    }
   ],
   "source": [
    "a,b,c = np.split(x,3)\n",
    "print(a,b,c)"
   ]
  },
  {
   "cell_type": "markdown",
   "metadata": {},
   "source": [
    "> Let's split 4 Dimensional Matrix into 3 Dimensional Matrix"
   ]
  },
  {
   "cell_type": "code",
   "execution_count": 34,
   "metadata": {},
   "outputs": [
    {
     "name": "stdout",
     "output_type": "stream",
     "text": [
      "[[[0.55502537 0.70849525 0.49572221 0.95128966]\n",
      "  [0.46636681 0.48960562 0.384873   0.88297388]\n",
      "  [0.54548746 0.61628198 0.50210597 0.04882638]\n",
      "  [0.49329535 0.62229762 0.521854   0.49958477]]\n",
      "\n",
      " [[0.68537394 0.46948466 0.33252028 0.6310936 ]\n",
      "  [0.83902859 0.14334558 0.04862392 0.74225531]\n",
      "  [0.08385939 0.27978184 0.20440813 0.49793268]\n",
      "  [0.00483236 0.26731947 0.29026565 0.367688  ]]\n",
      "\n",
      " [[0.00794186 0.43025383 0.85098917 0.76200958]\n",
      "  [0.17208562 0.37113771 0.87691365 0.66997138]\n",
      "  [0.00515911 0.97425961 0.59169424 0.81309986]\n",
      "  [0.16891361 0.55996679 0.28605083 0.29196165]]\n",
      "\n",
      " [[0.87147984 0.22846116 0.94326067 0.14873038]\n",
      "  [0.61229904 0.77666644 0.48054988 0.87492972]\n",
      "  [0.39872359 0.92387242 0.03978002 0.7278551 ]\n",
      "  [0.82547574 0.85457122 0.05117627 0.67523007]]]\n"
     ]
    }
   ],
   "source": [
    "x = np.random.rand(4,4,4)\n",
    "print(x)"
   ]
  },
  {
   "cell_type": "code",
   "execution_count": 39,
   "metadata": {},
   "outputs": [
    {
     "name": "stdout",
     "output_type": "stream",
     "text": [
      "[[[0.55502537 0.70849525 0.49572221 0.95128966]\n",
      "  [0.46636681 0.48960562 0.384873   0.88297388]\n",
      "  [0.54548746 0.61628198 0.50210597 0.04882638]\n",
      "  [0.49329535 0.62229762 0.521854   0.49958477]]\n",
      "\n",
      " [[0.68537394 0.46948466 0.33252028 0.6310936 ]\n",
      "  [0.83902859 0.14334558 0.04862392 0.74225531]\n",
      "  [0.08385939 0.27978184 0.20440813 0.49793268]\n",
      "  [0.00483236 0.26731947 0.29026565 0.367688  ]]]\n",
      "\n",
      "\n",
      "\n",
      "[[[0.00794186 0.43025383 0.85098917 0.76200958]\n",
      "  [0.17208562 0.37113771 0.87691365 0.66997138]\n",
      "  [0.00515911 0.97425961 0.59169424 0.81309986]\n",
      "  [0.16891361 0.55996679 0.28605083 0.29196165]]\n",
      "\n",
      " [[0.87147984 0.22846116 0.94326067 0.14873038]\n",
      "  [0.61229904 0.77666644 0.48054988 0.87492972]\n",
      "  [0.39872359 0.92387242 0.03978002 0.7278551 ]\n",
      "  [0.82547574 0.85457122 0.05117627 0.67523007]]]\n"
     ]
    }
   ],
   "source": [
    "y,z = np.split(x,2)\n",
    "print(y,z, sep = \"\\n\\n\\n\\n\")"
   ]
  },
  {
   "cell_type": "markdown",
   "metadata": {},
   "source": [
    "Here the four dimensional matrix is splitted into two three dimensional matrix."
   ]
  },
  {
   "cell_type": "markdown",
   "metadata": {},
   "source": [
    "### Different version of split functions"
   ]
  },
  {
   "cell_type": "markdown",
   "metadata": {},
   "source": [
    "1. Depth Wise Splitting"
   ]
  },
  {
   "cell_type": "code",
   "execution_count": 49,
   "metadata": {},
   "outputs": [
    {
     "name": "stdout",
     "output_type": "stream",
     "text": [
      "Shape of Matrix Formed : \n",
      " y : (4, 4, 2) \n",
      " z : (4, 4, 2)\n",
      "\n",
      "\n",
      "[[[0.55502537 0.70849525]\n",
      "  [0.46636681 0.48960562]\n",
      "  [0.54548746 0.61628198]\n",
      "  [0.49329535 0.62229762]]\n",
      "\n",
      " [[0.68537394 0.46948466]\n",
      "  [0.83902859 0.14334558]\n",
      "  [0.08385939 0.27978184]\n",
      "  [0.00483236 0.26731947]]\n",
      "\n",
      " [[0.00794186 0.43025383]\n",
      "  [0.17208562 0.37113771]\n",
      "  [0.00515911 0.97425961]\n",
      "  [0.16891361 0.55996679]]\n",
      "\n",
      " [[0.87147984 0.22846116]\n",
      "  [0.61229904 0.77666644]\n",
      "  [0.39872359 0.92387242]\n",
      "  [0.82547574 0.85457122]]]\n",
      "\n",
      "\n",
      "\n",
      "[[[0.49572221 0.95128966]\n",
      "  [0.384873   0.88297388]\n",
      "  [0.50210597 0.04882638]\n",
      "  [0.521854   0.49958477]]\n",
      "\n",
      " [[0.33252028 0.6310936 ]\n",
      "  [0.04862392 0.74225531]\n",
      "  [0.20440813 0.49793268]\n",
      "  [0.29026565 0.367688  ]]\n",
      "\n",
      " [[0.85098917 0.76200958]\n",
      "  [0.87691365 0.66997138]\n",
      "  [0.59169424 0.81309986]\n",
      "  [0.28605083 0.29196165]]\n",
      "\n",
      " [[0.94326067 0.14873038]\n",
      "  [0.48054988 0.87492972]\n",
      "  [0.03978002 0.7278551 ]\n",
      "  [0.05117627 0.67523007]]]\n"
     ]
    }
   ],
   "source": [
    "y,z = np.dsplit(x,2)\n",
    "print('Shape of Matrix Formed : \\n y : {} \\n z : {}\\n\\n'.format(y.shape, z.shape))\n",
    "print(y,z, sep=\"\\n\\n\\n\\n\")"
   ]
  },
  {
   "cell_type": "markdown",
   "metadata": {},
   "source": [
    "2. Horizontal Splitting"
   ]
  },
  {
   "cell_type": "code",
   "execution_count": 50,
   "metadata": {},
   "outputs": [
    {
     "name": "stdout",
     "output_type": "stream",
     "text": [
      "Shape of Matrix Formed : \n",
      " y : (4, 2, 4) \n",
      " z : (4, 2, 4)\n",
      "\n",
      "\n",
      "[[[0.55502537 0.70849525 0.49572221 0.95128966]\n",
      "  [0.46636681 0.48960562 0.384873   0.88297388]]\n",
      "\n",
      " [[0.68537394 0.46948466 0.33252028 0.6310936 ]\n",
      "  [0.83902859 0.14334558 0.04862392 0.74225531]]\n",
      "\n",
      " [[0.00794186 0.43025383 0.85098917 0.76200958]\n",
      "  [0.17208562 0.37113771 0.87691365 0.66997138]]\n",
      "\n",
      " [[0.87147984 0.22846116 0.94326067 0.14873038]\n",
      "  [0.61229904 0.77666644 0.48054988 0.87492972]]]\n",
      "\n",
      "\n",
      "\n",
      "[[[0.54548746 0.61628198 0.50210597 0.04882638]\n",
      "  [0.49329535 0.62229762 0.521854   0.49958477]]\n",
      "\n",
      " [[0.08385939 0.27978184 0.20440813 0.49793268]\n",
      "  [0.00483236 0.26731947 0.29026565 0.367688  ]]\n",
      "\n",
      " [[0.00515911 0.97425961 0.59169424 0.81309986]\n",
      "  [0.16891361 0.55996679 0.28605083 0.29196165]]\n",
      "\n",
      " [[0.39872359 0.92387242 0.03978002 0.7278551 ]\n",
      "  [0.82547574 0.85457122 0.05117627 0.67523007]]]\n"
     ]
    }
   ],
   "source": [
    "y,z = np.hsplit(x,2)\n",
    "print('Shape of Matrix Formed : \\n y : {} \\n z : {}\\n\\n'.format(y.shape, z.shape))\n",
    "print(y,z, sep=\"\\n\\n\\n\\n\")"
   ]
  },
  {
   "cell_type": "markdown",
   "metadata": {},
   "source": [
    "3. Vertical Splitting"
   ]
  },
  {
   "cell_type": "code",
   "execution_count": 51,
   "metadata": {},
   "outputs": [
    {
     "name": "stdout",
     "output_type": "stream",
     "text": [
      "Shape of Matrix Formed : \n",
      " y : (2, 4, 4) \n",
      " z : (2, 4, 4)\n",
      "\n",
      "\n",
      "[[[0.55502537 0.70849525 0.49572221 0.95128966]\n",
      "  [0.46636681 0.48960562 0.384873   0.88297388]\n",
      "  [0.54548746 0.61628198 0.50210597 0.04882638]\n",
      "  [0.49329535 0.62229762 0.521854   0.49958477]]\n",
      "\n",
      " [[0.68537394 0.46948466 0.33252028 0.6310936 ]\n",
      "  [0.83902859 0.14334558 0.04862392 0.74225531]\n",
      "  [0.08385939 0.27978184 0.20440813 0.49793268]\n",
      "  [0.00483236 0.26731947 0.29026565 0.367688  ]]]\n",
      "\n",
      "\n",
      "\n",
      "[[[0.00794186 0.43025383 0.85098917 0.76200958]\n",
      "  [0.17208562 0.37113771 0.87691365 0.66997138]\n",
      "  [0.00515911 0.97425961 0.59169424 0.81309986]\n",
      "  [0.16891361 0.55996679 0.28605083 0.29196165]]\n",
      "\n",
      " [[0.87147984 0.22846116 0.94326067 0.14873038]\n",
      "  [0.61229904 0.77666644 0.48054988 0.87492972]\n",
      "  [0.39872359 0.92387242 0.03978002 0.7278551 ]\n",
      "  [0.82547574 0.85457122 0.05117627 0.67523007]]]\n"
     ]
    }
   ],
   "source": [
    "y,z = np.vsplit(x,2)\n",
    "print('Shape of Matrix Formed : \\n y : {} \\n z : {}\\n\\n'.format(y.shape, z.shape))\n",
    "\n",
    "print(y,z, sep=\"\\n\\n\\n\\n\")"
   ]
  },
  {
   "cell_type": "markdown",
   "metadata": {},
   "source": [
    "## Flipping Matrix"
   ]
  },
  {
   "cell_type": "code",
   "execution_count": 69,
   "metadata": {},
   "outputs": [
    {
     "name": "stdout",
     "output_type": "stream",
     "text": [
      "[[ 0  1  2  3]\n",
      " [ 4  5  6  7]\n",
      " [ 8  9 10 11]\n",
      " [12 13 14 15]]\n"
     ]
    }
   ],
   "source": [
    "x = np.arange(16).reshape(4,4)\n",
    "print(x)"
   ]
  },
  {
   "cell_type": "code",
   "execution_count": 77,
   "metadata": {},
   "outputs": [
    {
     "name": "stdout",
     "output_type": "stream",
     "text": [
      "[[ 3  2  1  0]\n",
      " [ 7  6  5  4]\n",
      " [11 10  9  8]\n",
      " [15 14 13 12]]\n"
     ]
    }
   ],
   "source": [
    "y = np.flip(x, axis = 1)\n",
    "print(y)"
   ]
  },
  {
   "cell_type": "code",
   "execution_count": 78,
   "metadata": {},
   "outputs": [
    {
     "name": "stdout",
     "output_type": "stream",
     "text": [
      "[[ 3  2  1  0]\n",
      " [ 7  6  5  4]\n",
      " [11 10  9  8]\n",
      " [15 14 13 12]]\n"
     ]
    }
   ],
   "source": [
    "y = np.flip(x, axis = -1)\n",
    "print(y)"
   ]
  },
  {
   "cell_type": "code",
   "execution_count": 79,
   "metadata": {},
   "outputs": [
    {
     "name": "stdout",
     "output_type": "stream",
     "text": [
      "[[12 13 14 15]\n",
      " [ 8  9 10 11]\n",
      " [ 4  5  6  7]\n",
      " [ 0  1  2  3]]\n"
     ]
    }
   ],
   "source": [
    "y = np.flip(x, axis = 0)\n",
    "print(y)"
   ]
  },
  {
   "cell_type": "code",
   "execution_count": 80,
   "metadata": {
    "scrolled": false
   },
   "outputs": [
    {
     "name": "stdout",
     "output_type": "stream",
     "text": [
      "[[12 13 14 15]\n",
      " [ 8  9 10 11]\n",
      " [ 4  5  6  7]\n",
      " [ 0  1  2  3]]\n"
     ]
    }
   ],
   "source": [
    "y = np.flip(x, axis = -2)\n",
    "print(y)"
   ]
  },
  {
   "cell_type": "markdown",
   "metadata": {},
   "source": [
    "If we ever try to create flip by axis of the dimension of matrix :   \n",
    "```AxisError: axis 2 is out of bounds for array of dimension 2```"
   ]
  },
  {
   "cell_type": "markdown",
   "metadata": {},
   "source": [
    "1. Flip from left to right"
   ]
  },
  {
   "cell_type": "code",
   "execution_count": 83,
   "metadata": {},
   "outputs": [
    {
     "name": "stdout",
     "output_type": "stream",
     "text": [
      "[[ 0  1  2  3]\n",
      " [ 4  5  6  7]\n",
      " [ 8  9 10 11]\n",
      " [12 13 14 15]]\n",
      "[[ 3  2  1  0]\n",
      " [ 7  6  5  4]\n",
      " [11 10  9  8]\n",
      " [15 14 13 12]]\n"
     ]
    }
   ],
   "source": [
    "print(x)\n",
    "y = np.fliplr(x)\n",
    "print(y)"
   ]
  },
  {
   "cell_type": "markdown",
   "metadata": {},
   "source": [
    "```np.fliplr()``` is equivalent to ```np.flip(axis=1)```."
   ]
  },
  {
   "cell_type": "code",
   "execution_count": 87,
   "metadata": {},
   "outputs": [
    {
     "name": "stdout",
     "output_type": "stream",
     "text": [
      "[[ 0  1  2  3]\n",
      " [ 4  5  6  7]\n",
      " [ 8  9 10 11]\n",
      " [12 13 14 15]]\n",
      "[[12 13 14 15]\n",
      " [ 8  9 10 11]\n",
      " [ 4  5  6  7]\n",
      " [ 0  1  2  3]]\n"
     ]
    }
   ],
   "source": [
    "print(x)\n",
    "y = np.flipud(x)\n",
    "print(y)"
   ]
  },
  {
   "cell_type": "markdown",
   "metadata": {},
   "source": [
    "```np.fliplr()``` is equivalent to ```np.flip(axis=0)```."
   ]
  },
  {
   "cell_type": "markdown",
   "metadata": {},
   "source": [
    "## Rolling matrix"
   ]
  },
  {
   "cell_type": "code",
   "execution_count": 90,
   "metadata": {},
   "outputs": [
    {
     "name": "stdout",
     "output_type": "stream",
     "text": [
      "[[ 8  9 10 11]\n",
      " [12 13 14 15]\n",
      " [ 0  1  2  3]\n",
      " [ 4  5  6  7]]\n"
     ]
    }
   ],
   "source": [
    "y = np.roll(x,8)\n",
    "print(y)"
   ]
  },
  {
   "cell_type": "markdown",
   "metadata": {},
   "source": [
    "First 8 elements are rolled to later 8 elements."
   ]
  },
  {
   "cell_type": "code",
   "execution_count": 92,
   "metadata": {},
   "outputs": [
    {
     "name": "stdout",
     "output_type": "stream",
     "text": [
      "[[12 13 14 15]\n",
      " [ 0  1  2  3]\n",
      " [ 4  5  6  7]\n",
      " [ 8  9 10 11]]\n"
     ]
    }
   ],
   "source": [
    "y = np.roll(x,4)\n",
    "print(y)"
   ]
  },
  {
   "cell_type": "markdown",
   "metadata": {},
   "source": [
    "First 4 elements are rolled to later 4 elements. Similar is the case for second and third 4 elements."
   ]
  },
  {
   "cell_type": "markdown",
   "metadata": {},
   "source": [
    "## Rotating Matrix"
   ]
  },
  {
   "cell_type": "code",
   "execution_count": 94,
   "metadata": {},
   "outputs": [
    {
     "name": "stdout",
     "output_type": "stream",
     "text": [
      "[[ 0  1  2  3]\n",
      " [ 4  5  6  7]\n",
      " [ 8  9 10 11]\n",
      " [12 13 14 15]]\n",
      "[[ 3  7 11 15]\n",
      " [ 2  6 10 14]\n",
      " [ 1  5  9 13]\n",
      " [ 0  4  8 12]]\n"
     ]
    }
   ],
   "source": [
    "print(x)\n",
    "y = np.rot90(x)\n",
    "print(y)"
   ]
  },
  {
   "cell_type": "code",
   "execution_count": 98,
   "metadata": {},
   "outputs": [
    {
     "name": "stdout",
     "output_type": "stream",
     "text": [
      "[[ 0  1  2  3]\n",
      " [ 4  5  6  7]\n",
      " [ 8  9 10 11]\n",
      " [12 13 14 15]]\n",
      "[[ 3  7 11 15]\n",
      " [ 2  6 10 14]\n",
      " [ 1  5  9 13]\n",
      " [ 0  4  8 12]]\n"
     ]
    }
   ],
   "source": [
    "print(x)\n",
    "y = np.rot90(x)\n",
    "print(y)"
   ]
  },
  {
   "cell_type": "markdown",
   "metadata": {},
   "source": [
    "Rotation is available for only 90 degrees."
   ]
  }
 ],
 "metadata": {
  "kernelspec": {
   "display_name": "Python 3",
   "language": "python",
   "name": "python3"
  },
  "language_info": {
   "codemirror_mode": {
    "name": "ipython",
    "version": 3
   },
   "file_extension": ".py",
   "mimetype": "text/x-python",
   "name": "python",
   "nbconvert_exporter": "python",
   "pygments_lexer": "ipython3",
   "version": "3.7.3"
  }
 },
 "nbformat": 4,
 "nbformat_minor": 2
}

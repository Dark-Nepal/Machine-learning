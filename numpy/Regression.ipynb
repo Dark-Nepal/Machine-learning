{
 "cells": [
  {
   "cell_type": "markdown",
   "metadata": {},
   "source": [
    "# Regression"
   ]
  },
  {
   "cell_type": "markdown",
   "metadata": {},
   "source": [
    "✍ **Arjun Adhikari**, May 31, 2019  \n",
    "Edit : June 2, 2019  "
   ]
  },
  {
   "cell_type": "markdown",
   "metadata": {},
   "source": [
    "Regression is the estimation of unknown values of one variable from known values of another variable."
   ]
  },
  {
   "cell_type": "markdown",
   "metadata": {},
   "source": [
    "## Regression Lines"
   ]
  },
  {
   "cell_type": "markdown",
   "metadata": {},
   "source": [
    "1. **Y on X line** : This line is used to find Y when X is given.  \n",
    "2. **X on Y line** : This line is used to find X when Y is given."
   ]
  },
  {
   "cell_type": "markdown",
   "metadata": {},
   "source": [
    "1. The regression line **Y on X** is defined as:  \n",
    "$Y - \\bar{Y} = b_{yx} (X - \\bar{X})$\n",
    "2. The regression line **X on Y** is defined as :   \n",
    "$X - \\bar{X} = b_{xy} (Y - \\bar{Y})$  \n",
    "where, \n",
    "   $b_{yx}$ is defined as regression coefficient of y on x.  \n",
    "    $b_{xy}$ is defined as regression coefficient of x on y.   \n",
    "    \n",
    "    $\\bar{X} = \\frac{\\sum{x}}{n}$  \n",
    "    \n",
    "    $\\bar{Y} = \\frac{\\sum{y}}{n}$ \n",
    "    \n",
    "    $b_{yx} = \\rho\\frac{\\sigma{y}}{\\sigma{x}} = \\frac{\\sum{xy} - \\frac{\\sum{x}\\sum{y}}{n}}{\\sum{x^2} - \\frac{(\\sum{x})^2}{n}}$ and  \n",
    "\n",
    "    $b_{xy} = \\rho\\frac{\\sigma{x}}{\\sigma{y}} = \\frac{\\sum{xy} - \\frac{\\sum{x}\\sum{y}}{n}}{\\sum{y^2} - \\frac{(\\sum{y})^2}{n}}$\n",
    "    where,   \n",
    "\n",
    "    $(\\sigma_{y})^2 = \\frac{\\sum{(Y - \\bar{Y})^2}}{n}$  \n",
    "\n",
    "    $(\\sigma_{x})^2 = \\frac{\\sum{(X - \\bar{X})^2}}{n}$ \n",
    "    and,  \n",
    "\n",
    "    $\\rho$ = coefficient of correlation\n"
   ]
  },
  {
   "cell_type": "code",
   "execution_count": 1,
   "metadata": {},
   "outputs": [],
   "source": [
    "import numpy as np"
   ]
  },
  {
   "cell_type": "code",
   "execution_count": 2,
   "metadata": {},
   "outputs": [
    {
     "name": "stdout",
     "output_type": "stream",
     "text": [
      "[0 1 2 3 4 5 6 7 8]\n",
      "[27 34 32 36 28 27 27 47 26]\n"
     ]
    }
   ],
   "source": [
    "X = np.arange(9)\n",
    "Y = np.random.randint(low=10, high=50, size=9)\n",
    "print(X,Y, sep='\\n')"
   ]
  },
  {
   "cell_type": "code",
   "execution_count": 3,
   "metadata": {},
   "outputs": [
    {
     "name": "stdout",
     "output_type": "stream",
     "text": [
      "0.26666666666666666\n"
     ]
    }
   ],
   "source": [
    "byx = (np.sum(X*Y) - (np.sum(X)*np.sum(Y))/X.size)/(np.sum(X**2) - (np.sum(X)**2)/X.size)\n",
    "print(byx)"
   ]
  },
  {
   "cell_type": "code",
   "execution_count": 4,
   "metadata": {},
   "outputs": [
    {
     "name": "stdout",
     "output_type": "stream",
     "text": [
      "0.04321728691476586\n"
     ]
    }
   ],
   "source": [
    "bxy = (np.sum(X*Y) - (np.sum(X)*np.sum(Y))/X.size)/(np.sum(Y**2) - (np.sum(Y)**2)/X.size)\n",
    "print(bxy)"
   ]
  },
  {
   "cell_type": "markdown",
   "metadata": {},
   "source": [
    "## Properties of Regression Lines"
   ]
  },
  {
   "cell_type": "markdown",
   "metadata": {},
   "source": [
    "1. The regression lines always intersect at a point ($\\bar{X}, \\bar{Y}$).\n",
    "2. If two regression lines are given and $\\theta$ be the acute angle between them, then :  \n",
    "\n",
    "$\\tan\\theta = \\left|\\frac{1-\\rho^2}{\\rho}\\right| \\left|\\frac{\\sigma_{x}.\\sigma_{y}}{\\sigma_{x}^2.\\sigma_{y}^2}\\right|$  \n",
    "\n",
    "where,\n",
    "$\\rho$ = coefficient of correlation\n",
    "\n",
    "**Remark** :  \n",
    "When $\\rho = 1, \\tan\\theta = 0, \\theta = 0$  \n",
    "It's a perfect correlation, there is no difference between regression line.\n",
    "\n",
    "When $\\rho = 0, \\tan\\theta = \\infty, \\theta = \\frac{\\pi}{2}$   \n",
    "There's no correlation.\n",
    "\n",
    "3. The coefficient of correlation is geometric mean of regression coefficient.  \n",
    "$\\rho = G.M(byx, bxy)$   \n",
    "$\\rho = \\sqrt{byx.bxy}$ \n",
    "\n",
    "4. If a regression coefficient is less than 1, then another regression coefficient should be greater than 1.\n",
    "\n",
    "$\\rho = \\sqrt{byx.bxy}$  \n",
    "$\\rho^2 = byx.bxy$  \n",
    "Since,  \n",
    "$-1 \\leq \\rho \\leq 1$  \n",
    "$or, 0 \\leq \\rho^2 \\leq 1$  \n",
    "$or, 0 \\leq byx.bxy \\leq 1$   \n",
    "If one of the coefficient is greater than 1, other is less than 0."
   ]
  },
  {
   "cell_type": "markdown",
   "metadata": {},
   "source": [
    "#### Question "
   ]
  },
  {
   "cell_type": "markdown",
   "metadata": {},
   "source": [
    "Q. Find the two lines of regression from the following data.\n",
    "\n",
    "| Age of husband | 25 | 22 | 28 | 26 | 35 | 20 | 22 | 40 | 20 | 18 |\n",
    "|----------------|----|----|----|----|----|----|----|----|----|----|\n",
    "| Age of wife    | 18 | 15 | 20 | 17 | 22 | 14 | 16 | 21 | 15 | 14 |\n",
    "\n",
    "Hence, estimate:\n",
    "\n",
    "1. The age of husband when the age of wife is 19.\n",
    "2. The age of wife when the age of husband is 30.\n",
    "3. The coefficient of correlation."
   ]
  },
  {
   "cell_type": "markdown",
   "metadata": {},
   "source": [
    "Soln: \n",
    "\n",
    "X = Age of husband  \n",
    "Y = Age of Wife  \n",
    "Assumed mean of $X(A) = 26$  \n",
    "Assumed mean of $Y(B) = 17$   \n",
    "and  \n",
    "$u = X - A = X - 26$  \n",
    "$v = Y - B = Y - 17$"
   ]
  },
  {
   "cell_type": "code",
   "execution_count": 5,
   "metadata": {},
   "outputs": [],
   "source": [
    "X = np.array([25, 22, 28, 26, 35, 20, 22, 40, 20, 18], dtype=np.int16)\n",
    "Y = np.array([18, 15, 20, 17, 22, 14, 16 , 21, 15, 14], dtype=np.int16)"
   ]
  },
  {
   "cell_type": "code",
   "execution_count": 6,
   "metadata": {},
   "outputs": [
    {
     "name": "stdout",
     "output_type": "stream",
     "text": [
      "[-1 -4  2  0  9 -6 -4 14 -6 -8]\n"
     ]
    }
   ],
   "source": [
    "u = X - 26\n",
    "print(u)"
   ]
  },
  {
   "cell_type": "code",
   "execution_count": 7,
   "metadata": {},
   "outputs": [
    {
     "name": "stdout",
     "output_type": "stream",
     "text": [
      "[ 1 -2  3  0  5 -3 -1  4 -2 -3]\n"
     ]
    }
   ],
   "source": [
    "v = Y - 17\n",
    "print(v)"
   ]
  },
  {
   "cell_type": "code",
   "execution_count": 8,
   "metadata": {},
   "outputs": [
    {
     "name": "stdout",
     "output_type": "stream",
     "text": [
      "[  1  16   4   0  81  36  16 196  36  64]\n",
      "[ 1  4  9  0 25  9  1 16  4  9]\n"
     ]
    }
   ],
   "source": [
    "u_sqr = u**2\n",
    "v_sqr = v**2\n",
    "print(u_sqr)\n",
    "print(v_sqr)"
   ]
  },
  {
   "cell_type": "code",
   "execution_count": 9,
   "metadata": {},
   "outputs": [
    {
     "name": "stdout",
     "output_type": "stream",
     "text": [
      "[-1  8  6  0 45 18  4 56 12 24]\n"
     ]
    }
   ],
   "source": [
    "uv = u*v\n",
    "print(uv)"
   ]
  },
  {
   "cell_type": "code",
   "execution_count": 10,
   "metadata": {},
   "outputs": [],
   "source": [
    "n = X.size"
   ]
  },
  {
   "cell_type": "code",
   "execution_count": 11,
   "metadata": {},
   "outputs": [
    {
     "name": "stdout",
     "output_type": "stream",
     "text": [
      "2.2268041237113407\n"
     ]
    }
   ],
   "source": [
    "bxy = (np.sum(uv) - (np.sum(u)*np.sum(v))/n)/(np.sum(v_sqr) - ((np.sum(v)**2)/n))\n",
    "print(bxy)"
   ]
  },
  {
   "cell_type": "code",
   "execution_count": 12,
   "metadata": {},
   "outputs": [
    {
     "name": "stdout",
     "output_type": "stream",
     "text": [
      "0.3853702051739519\n"
     ]
    }
   ],
   "source": [
    "byx = (np.sum(uv) - (np.sum(u)*np.sum(v))/n)/(np.sum(u_sqr) - ((np.sum(u)**2)/n))\n",
    "print(byx)"
   ]
  },
  {
   "cell_type": "code",
   "execution_count": 13,
   "metadata": {},
   "outputs": [],
   "source": [
    "y  = byx * (X - np.mean(X)) + np.mean(Y)\n",
    "x = bxy * (Y- np.mean(Y)) + np.mean(X)"
   ]
  },
  {
   "cell_type": "code",
   "execution_count": 16,
   "metadata": {},
   "outputs": [
    {
     "data": {
      "image/png": "[encoded data removed]",
      "text/plain": [
       "<Figure size 432x288 with 1 Axes>"
      ]
     },
     "metadata": {
      "needs_background": "light"
     },
     "output_type": "display_data"
    }
   ],
   "source": [
    "import matplotlib.pyplot as plt\n",
    "plt.plot(X,y, 'o-', color='blue')\n",
    "plt.title('Y on X Line of Regression')\n",
    "plt.show()"
   ]
  },
  {
   "cell_type": "code",
   "execution_count": 15,
   "metadata": {
    "scrolled": true
   },
   "outputs": [
    {
     "data": {
      "image/png": "[encoded data removed]",
      "text/plain": [
       "<Figure size 432x288 with 1 Axes>"
      ]
     },
     "metadata": {
      "needs_background": "light"
     },
     "output_type": "display_data"
    }
   ],
   "source": [
    "x = bxy - (Y - np.mean(Y)) + np.mean(X)\n",
    "plt.plot(x,Y, 'o-', color='red')\n",
    "plt.title('X on Y Line of Regression')\n",
    "plt.show()"
   ]
  },
  {
   "cell_type": "markdown",
   "metadata": {},
   "source": [
    "By calculation,  \n",
    "$y = 0.385x + 7.34$  \n",
    "$x = 2.226y - 12.7$ \n",
    "\n",
    "Hence, the age of wife when husband is 30 :    \n",
    "$y = 0.385x + 7.34$  \n",
    "$y = 0.385 \\times 30 + 7.34$  \n",
    "$y = 18.89$\n",
    "\n",
    "and, the age of husband when wife is 19 :   \n",
    "$x = 2.2268y + 12.7$  \n",
    "$x = 2.2268 \\times 19 + 12.7$  \n",
    "$x = 29.6$ \n",
    "\n",
    "And, \n",
    "$\\rho = \\sqrt{byx.bxy}$  \n",
    "$\\rho = 0.92635$"
   ]
  }
 ],
 "metadata": {
  "kernelspec": {
   "display_name": "Python 3",
   "language": "python",
   "name": "python3"
  },
  "language_info": {
   "codemirror_mode": {
    "name": "ipython",
    "version": 3
   },
   "file_extension": ".py",
   "mimetype": "text/x-python",
   "name": "python",
   "nbconvert_exporter": "python",
   "pygments_lexer": "ipython3",
   "version": "3.7.3"
  }
 },
 "nbformat": 4,
 "nbformat_minor": 2
}

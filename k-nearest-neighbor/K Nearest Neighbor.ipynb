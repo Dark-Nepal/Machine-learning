{
 "cells": [
  {
   "cell_type": "markdown",
   "metadata": {},
   "source": [
    "# K Nearest Neighbor"
   ]
  },
  {
   "cell_type": "markdown",
   "metadata": {},
   "source": [
    "👨‍💻 **Arjun Adhikari**, June 14, 2019"
   ]
  },
  {
   "cell_type": "markdown",
   "metadata": {},
   "source": [
    "- It is a simple machine learning algorithm.\n",
    "- It can be used for both regression and classification.\n",
    "- It is a supervised learning approach.\n",
    "\n",
    "- ```K``` refers to the no of neighbor points we're going to consider.\n",
    "- It works on the approach of majority vote.\n",
    "- No training of data is done.\n",
    "    - So, time complexity for the training of data is ```O(1)```.\n",
    "- All the work happens at the query time.\n",
    "    - ```O(N)``` for the N no. of examples we're going to consider.\n",
    "    - ```O(NQ)``` for the Q no. of queries.\n",
    "\n",
    "- It is non-parametric algorithm, i.e. we're not going to learn any parameters.\n",
    "- It is a baseline algorithm for testing accuracy, i.e. accuracy of any machine learning algorithm should be greater than KNN.\n",
    "- It is a brute-force approach."
   ]
  }
 ],
 "metadata": {
  "kernelspec": {
   "display_name": "Python 3",
   "language": "python",
   "name": "python3"
  },
  "language_info": {
   "codemirror_mode": {
    "name": "ipython",
    "version": 3
   },
   "file_extension": ".py",
   "mimetype": "text/x-python",
   "name": "python",
   "nbconvert_exporter": "python",
   "pygments_lexer": "ipython3",
   "version": "3.7.3"
  }
 },
 "nbformat": 4,
 "nbformat_minor": 2
}

{
 "cells": [
  {
   "cell_type": "markdown",
   "metadata": {},
   "source": [
    "# Challenge - Hardwork Pays Off"
   ]
  },
  {
   "cell_type": "markdown",
   "metadata": {},
   "source": [
    "👨‍💻 **Arjun Adhikari**, June 12, 2019"
   ]
  },
  {
   "cell_type": "markdown",
   "metadata": {},
   "source": [
    "In this challenge, we are provided with **wakatime data of  past students** and how they performed in the evaluation exam.  \n",
    "Our task is to predict the score you will get given the amount of time you spend on coding daily.\n",
    "\n",
    "**Input**: You are given one feature corresponding to time noted by walkatime.  \n",
    "**Output**: A scalar denoting the level of perfomance student achived by devoting the given time.  \n",
    "**Download** the training data and upload your predictions for the testcases given below."
   ]
  },
  {
   "cell_type": "code",
   "execution_count": 1,
   "metadata": {},
   "outputs": [],
   "source": [
    "import os\n",
    "import numpy as np\n",
    "import matplotlib.pyplot as plt\n",
    "import pandas as pd"
   ]
  },
  {
   "cell_type": "code",
   "execution_count": 2,
   "metadata": {},
   "outputs": [
    {
     "name": "stdout",
     "output_type": "stream",
     "text": [
      "C:\\Users\\arjun\\Desktop\\workspace\\machine-learning\\linear-regression\n"
     ]
    }
   ],
   "source": [
    "os.chdir(r\"C:\\users\\arjun\\Desktop\\workspace\\machine-learning\\linear-regression\")\n",
    "print(os.getcwd())"
   ]
  },
  {
   "cell_type": "code",
   "execution_count": 3,
   "metadata": {},
   "outputs": [],
   "source": [
    "x = pd.read_csv(\"./csv/Linear_X_Train.csv\").values\n",
    "y = pd.read_csv(\"./csv/Linear_Y_Train.csv\").values"
   ]
  },
  {
   "cell_type": "code",
   "execution_count": 4,
   "metadata": {},
   "outputs": [
    {
     "name": "stdout",
     "output_type": "stream",
     "text": [
      "(3750, 1)\n",
      "(3750, 1)\n"
     ]
    }
   ],
   "source": [
    "print(x.shape)\n",
    "print(y.shape)"
   ]
  },
  {
   "cell_type": "markdown",
   "metadata": {},
   "source": [
    "#### Normalization of Data"
   ]
  },
  {
   "cell_type": "code",
   "execution_count": 5,
   "metadata": {},
   "outputs": [],
   "source": [
    "X = (x - x.mean())/x.std()\n",
    "Y = y"
   ]
  },
  {
   "cell_type": "code",
   "execution_count": 6,
   "metadata": {},
   "outputs": [
    {
     "data": {
      "image/png": "[encoded data removed]",
      "text/plain": [
       "<Figure size 576x288 with 2 Axes>"
      ]
     },
     "metadata": {
      "needs_background": "light"
     },
     "output_type": "display_data"
    }
   ],
   "source": [
    "plt.figure(figsize=(8, 4))\n",
    "\n",
    "plt.subplot(121)\n",
    "plt.title(\"Raw Data\")\n",
    "plt.scatter(x,y, label=\"Raw Data\", marker='.')\n",
    "plt.legend()\n",
    "\n",
    "plt.subplot(122)\n",
    "plt.title(\"Normalized Data\")\n",
    "plt.scatter(X,Y, label=\"Normalized Data\", marker='.', color='red')\n",
    "plt.legend()\n",
    "plt.show()"
   ]
  },
  {
   "cell_type": "markdown",
   "metadata": {},
   "source": [
    "Data seems like it's already normalized."
   ]
  },
  {
   "cell_type": "markdown",
   "metadata": {},
   "source": [
    "#### Hypothesis Function"
   ]
  },
  {
   "cell_type": "code",
   "execution_count": 7,
   "metadata": {},
   "outputs": [],
   "source": [
    "def hypothesis(X,theta):\n",
    "    \n",
    "    return theta[0] + theta[1]*X"
   ]
  },
  {
   "cell_type": "markdown",
   "metadata": {},
   "source": [
    "#### Error Function"
   ]
  },
  {
   "cell_type": "code",
   "execution_count": 8,
   "metadata": {},
   "outputs": [],
   "source": [
    "def error(X, Y, theta):\n",
    "    \n",
    "    m = X.shape[0]\n",
    "    total_error = 0\n",
    "    \n",
    "    for i in range(m):\n",
    "        \n",
    "        total_error += (hypothesis(X[i], theta) - Y[i])**2\n",
    "        \n",
    "    return total_error"
   ]
  },
  {
   "cell_type": "markdown",
   "metadata": {},
   "source": [
    "#### Gradient Function"
   ]
  },
  {
   "cell_type": "code",
   "execution_count": 9,
   "metadata": {},
   "outputs": [],
   "source": [
    "def gradient(X, Y, theta):\n",
    "    \n",
    "    m = X.shape[0]\n",
    "    grad = np.array([0.0, 0.0])\n",
    "    \n",
    "    for i in range(m):\n",
    "        \n",
    "        hx = hypothesis(X[i], theta)\n",
    "        grad[0] += (hx - Y[i])\n",
    "        grad[1] += (hx - Y[i])*X[i]   \n",
    "        \n",
    "    return grad"
   ]
  },
  {
   "cell_type": "markdown",
   "metadata": {},
   "source": [
    "#### Gradient Descent Algorithm\n",
    "Set $learningrate = 0.0001$"
   ]
  },
  {
   "cell_type": "code",
   "execution_count": 10,
   "metadata": {},
   "outputs": [],
   "source": [
    "def gradientDescent(X, Y, learning_rate=0.0001):\n",
    "    \n",
    "    error_list = []\n",
    "    theta_list = []\n",
    "    \n",
    "    itr = 0\n",
    "    max_itr = 100\n",
    "    \n",
    "    theta = np.array([0.0, 0.0])\n",
    "    grad = np.array([0.0, 0.0])\n",
    "    \n",
    "    while itr <= max_itr:\n",
    "        \n",
    "        grad = gradient(X, Y, theta)\n",
    "        err = error(X, Y, theta)\n",
    "        \n",
    "        theta_list.append((theta[0], theta[1]))\n",
    "        error_list.append(err)\n",
    "        \n",
    "        theta[0] -= learning_rate*grad[0]\n",
    "        theta[1] -= learning_rate*grad[1]\n",
    "        \n",
    "        itr += 1\n",
    "        \n",
    "    return theta, error_list, theta_list"
   ]
  },
  {
   "cell_type": "code",
   "execution_count": 11,
   "metadata": {},
   "outputs": [
    {
     "name": "stdout",
     "output_type": "stream",
     "text": [
      "[ 0.68386897 79.90573694]\n"
     ]
    }
   ],
   "source": [
    "theta = np.array([0.0, 0.0])\n",
    "\n",
    "final_theta, error_list, theta_list = gradientDescent(X,Y)\n",
    "print(final_theta)"
   ]
  },
  {
   "cell_type": "markdown",
   "metadata": {},
   "source": [
    "#### Error Curve"
   ]
  },
  {
   "cell_type": "code",
   "execution_count": 12,
   "metadata": {},
   "outputs": [
    {
     "name": "stdout",
     "output_type": "stream",
     "text": [
      "(101, 1)\n"
     ]
    }
   ],
   "source": [
    "error_list = np.array(error_list)\n",
    "print(error_list.shape)"
   ]
  },
  {
   "cell_type": "code",
   "execution_count": 13,
   "metadata": {},
   "outputs": [
    {
     "data": {
      "image/png": "[encoded data removed]",
      "text/plain": [
       "<Figure size 432x288 with 1 Axes>"
      ]
     },
     "metadata": {
      "needs_background": "light"
     },
     "output_type": "display_data"
    }
   ],
   "source": [
    "plt.plot(error_list)\n",
    "plt.title(\"Error Curve\")\n",
    "plt.show()"
   ]
  },
  {
   "cell_type": "markdown",
   "metadata": {},
   "source": [
    "### Testing Data"
   ]
  },
  {
   "cell_type": "code",
   "execution_count": 14,
   "metadata": {},
   "outputs": [
    {
     "name": "stdout",
     "output_type": "stream",
     "text": [
      "[-5.         -4.28571429 -3.57142857 -2.85714286 -2.14285714 -1.42857143\n",
      " -0.71428571  0.          0.71428571  1.42857143  2.14285714  2.85714286\n",
      "  3.57142857  4.28571429  5.        ]\n"
     ]
    }
   ],
   "source": [
    "xtest = np.linspace(-5, 5, 15)\n",
    "print(xtest)"
   ]
  },
  {
   "cell_type": "code",
   "execution_count": 15,
   "metadata": {
    "scrolled": false
   },
   "outputs": [
    {
     "data": {
      "image/png": "[encoded data removed]",
      "text/plain": [
       "<Figure size 432x288 with 1 Axes>"
      ]
     },
     "metadata": {
      "needs_background": "light"
     },
     "output_type": "display_data"
    }
   ],
   "source": [
    "plt.scatter(X,Y, label='Training Data', color='red', marker='.')\n",
    "plt.plot(xtest, hypothesis(xtest, final_theta), label='Predicted Data', color='blue')\n",
    "\n",
    "plt.title(\"Prediction of Marks\")\n",
    "plt.legend()\n",
    "plt.show()"
   ]
  }
 ],
 "metadata": {
  "kernelspec": {
   "display_name": "Python 3",
   "language": "python",
   "name": "python3"
  },
  "language_info": {
   "codemirror_mode": {
    "name": "ipython",
    "version": 3
   },
   "file_extension": ".py",
   "mimetype": "text/x-python",
   "name": "python",
   "nbconvert_exporter": "python",
   "pygments_lexer": "ipython3",
   "version": "3.7.3"
  }
 },
 "nbformat": 4,
 "nbformat_minor": 2
}

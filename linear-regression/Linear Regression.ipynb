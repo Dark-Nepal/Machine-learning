{
 "cells": [
  {
   "cell_type": "markdown",
   "metadata": {},
   "source": [
    "# Linear Regression"
   ]
  },
  {
   "cell_type": "markdown",
   "metadata": {},
   "source": [
    "✍ **Arjun Adhikari**, June 11, 2019"
   ]
  },
  {
   "cell_type": "markdown",
   "metadata": {},
   "source": [
    "[Practice Image](https://i.ibb.co/3MGzG7b/IMG-20190611-125845-897.jpg)"
   ]
  },
  {
   "cell_type": "markdown",
   "metadata": {},
   "source": [
    "**Goal** : Find the best line [Optimal Values of Parameter]"
   ]
  },
  {
   "cell_type": "markdown",
   "metadata": {},
   "source": [
    "$y = \\theta_{o} + \\theta_{1}x$  \n",
    "where, $\\theta_{o} = $ intercept of the line and  \n",
    "$\\theta_{1} =$ slope of the line "
   ]
  },
  {
   "cell_type": "markdown",
   "metadata": {},
   "source": [
    "> **Training Data > Algorithm > Hypothesis > Test Data > Result**"
   ]
  },
  {
   "cell_type": "markdown",
   "metadata": {},
   "source": [
    "## Pseudo Code "
   ]
  },
  {
   "cell_type": "markdown",
   "metadata": {},
   "source": [
    "1. Take random value of $\\theta$ where $\\theta$ =  $[\\theta_{o} , \\theta_{1}]$, a two dimensional vector of intercept and slope.\n",
    "2. Measure how good theta is. Error function will check the theta is relatively good or not.\n",
    "3. Minimize the error to get optimal $\\theta$. \n",
    "\n",
    "_Total error_ = $\\sum_{i=1}^{m} \\left| {[{y}_{i} - h(x_{i})}]^2 \\right|$"
   ]
  }
 ],
 "metadata": {
  "kernelspec": {
   "display_name": "Python 3",
   "language": "python",
   "name": "python3"
  },
  "language_info": {
   "codemirror_mode": {
    "name": "ipython",
    "version": 3
   },
   "file_extension": ".py",
   "mimetype": "text/x-python",
   "name": "python",
   "nbconvert_exporter": "python",
   "pygments_lexer": "ipython3",
   "version": "3.7.3"
  }
 },
 "nbformat": 4,
 "nbformat_minor": 2
}

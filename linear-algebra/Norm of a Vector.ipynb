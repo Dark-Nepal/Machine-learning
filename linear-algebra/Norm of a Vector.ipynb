{
 "cells": [
  {
   "cell_type": "markdown",
   "metadata": {},
   "source": [
    "# Norm of a Vector"
   ]
  },
  {
   "cell_type": "markdown",
   "metadata": {},
   "source": [
    "👨‍💻 **Arjun Adhikari**, June 12, 2019"
   ]
  },
  {
   "cell_type": "markdown",
   "metadata": {},
   "source": [
    "- Norm can be thought of as a proxy for size of a vector.\n",
    "\n",
    "We define $L^p$ norm $||x||_{p} = (\\sum{|x_{i}|^p})^\\frac{1}{p}$   \n",
    "$p \\geq 1, p \\in \\Re$\n",
    "\n",
    "- Norm is a _function_ that maps vectors to non-negative values. A norm satisfies the following properties: \n",
    "    - $f(x) = 0 => x = 0$\n",
    "    - $f(x+y) \\leq f(x) + f(y)$ (**Triangle Inequality**)\n",
    "    - $\\forall \\alpha \\in \\Re, f(\\alpha x) = |\\alpha|f(x)$\n",
    "    \n",
    "    \n",
    "- $L^2$ norm is called the **Euclidean norm**, often $||x||$.\n",
    "    - We work mostly with squared $L^2$ norm which can be computed as $x^Tx$.\n",
    "    - Squared $L^2$ norm is easier to work with as it's derivative is $2*x$.\n",
    "    - In some ML applications, it is important to distinguish between elements that are zero and small but not zero. Squared $L^2$ norm may not be the right  choice as it grows very slowly towards the origin.\n",
    "     \n",
    "     \n",
    "- $L^1$ norm is the absolute sum of all members of a vector.\n",
    "    - Useful when difference between 0 and non-zero elements is essential.\n",
    "    \n",
    "    \n",
    "- **Max-Norm**: $L^\\infty$ : This simplifies to absolute value of the element with highest magnitude."
   ]
  },
  {
   "cell_type": "code",
   "execution_count": 1,
   "metadata": {},
   "outputs": [],
   "source": [
    "import numpy as np"
   ]
  },
  {
   "cell_type": "code",
   "execution_count": 2,
   "metadata": {},
   "outputs": [
    {
     "name": "stdout",
     "output_type": "stream",
     "text": [
      "[21 28 28 48 44]\n"
     ]
    }
   ],
   "source": [
    "X = np.random.randint(low=10, high=50, size=5)\n",
    "print(X)"
   ]
  },
  {
   "cell_type": "markdown",
   "metadata": {},
   "source": [
    "### $L^2$ Norm"
   ]
  },
  {
   "cell_type": "code",
   "execution_count": 3,
   "metadata": {},
   "outputs": [
    {
     "name": "stdout",
     "output_type": "stream",
     "text": [
      "79.05061669588669\n"
     ]
    }
   ],
   "source": [
    "l2 = np.linalg.norm(X)\n",
    "print(l2)"
   ]
  },
  {
   "cell_type": "markdown",
   "metadata": {},
   "source": [
    "### $L^1$ Norm"
   ]
  },
  {
   "cell_type": "code",
   "execution_count": 4,
   "metadata": {},
   "outputs": [
    {
     "name": "stdout",
     "output_type": "stream",
     "text": [
      "169.0\n"
     ]
    }
   ],
   "source": [
    "l1 = np.linalg.norm(X, ord=1)\n",
    "print(l1)"
   ]
  },
  {
   "cell_type": "markdown",
   "metadata": {},
   "source": [
    "### $L^\\infty$ Norm"
   ]
  },
  {
   "cell_type": "code",
   "execution_count": 5,
   "metadata": {},
   "outputs": [
    {
     "name": "stdout",
     "output_type": "stream",
     "text": [
      "48.0\n"
     ]
    }
   ],
   "source": [
    "l1 = np.linalg.norm(X, ord=np.inf)\n",
    "print(l1)"
   ]
  },
  {
   "cell_type": "markdown",
   "metadata": {},
   "source": [
    "Here, $L^2$ Norm is the default norm, and rest of the norm is calculated by passing the values in the ```ord``` keyword parameter."
   ]
  }
 ],
 "metadata": {
  "kernelspec": {
   "display_name": "Python 3",
   "language": "python",
   "name": "python3"
  },
  "language_info": {
   "codemirror_mode": {
    "name": "ipython",
    "version": 3
   },
   "file_extension": ".py",
   "mimetype": "text/x-python",
   "name": "python",
   "nbconvert_exporter": "python",
   "pygments_lexer": "ipython3",
   "version": "3.7.3"
  }
 },
 "nbformat": 4,
 "nbformat_minor": 2
}

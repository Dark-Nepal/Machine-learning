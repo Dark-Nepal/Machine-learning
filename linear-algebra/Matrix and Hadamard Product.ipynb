{
 "cells": [
  {
   "cell_type": "markdown",
   "metadata": {},
   "source": [
    "# Matrix and Hadamard Product"
   ]
  },
  {
   "cell_type": "markdown",
   "metadata": {},
   "source": [
    "👨‍💻 **Arjun Adhikari**, June 12, 2019"
   ]
  },
  {
   "cell_type": "markdown",
   "metadata": {},
   "source": [
    "This is perphaps one operation that we would use quite frequently in ML/DL model. We should remember few things about multiplication.  \n",
    "\n",
    "- $ C = AB $ is only defined when the second dimension of $ A $ matches the first dimension of $ B $.\n",
    "- Firther, if $ A $ is of shape (m,n) and $ B $ of shape (n,p), then $ C $ is of shape (m, p).\n",
    "- This operation is concretely defined as $ Cij =  \\sum_{k} A_{i,k}B_{k,j} $.\n",
    "    - $ C_{ij} $ is computed by taking the dot product of $ i-th $ row of $ A $ with $ j-th $ column of $ B $.\n",
    "- A more useful method to think of matrix multiplication is as **linear combination of columns** of $ A $ weighted b column entries of $ B $.  \n",
    "\n",
    " ![Illustration](https://i.ibb.co/KGmfFWS/unnamed.png)  \n",
    " [Image Credit](https://www.mpcm.org/visualizing-matrix-multiplication-as-a-linear-combination-eli-benderskys-website/)"
   ]
  },
  {
   "cell_type": "code",
   "execution_count": 1,
   "metadata": {},
   "outputs": [],
   "source": [
    "import numpy as np"
   ]
  },
  {
   "cell_type": "markdown",
   "metadata": {},
   "source": [
    "Loading arbitary elements into matrices $ A $ and $ B $."
   ]
  },
  {
   "cell_type": "code",
   "execution_count": 2,
   "metadata": {},
   "outputs": [
    {
     "name": "stdout",
     "output_type": "stream",
     "text": [
      "(3, 3)\n",
      "(3, 3)\n"
     ]
    }
   ],
   "source": [
    "A = np.random.randint(low=11, high=20, size=9).reshape(3,3)\n",
    "B = np.random.randint(low=41, high=50, size=9).reshape(3,3)\n",
    "\n",
    "print(A.shape)\n",
    "print(B.shape)"
   ]
  },
  {
   "cell_type": "code",
   "execution_count": 3,
   "metadata": {},
   "outputs": [
    {
     "name": "stdout",
     "output_type": "stream",
     "text": [
      "[[15 15 18]\n",
      " [11 18 12]\n",
      " [14 15 12]]\n",
      "\n",
      "[[43 49 43]\n",
      " [48 48 46]\n",
      " [45 41 41]]\n"
     ]
    }
   ],
   "source": [
    "print(A,B, sep='\\n\\n')"
   ]
  },
  {
   "cell_type": "markdown",
   "metadata": {},
   "source": [
    "### Dot Product"
   ]
  },
  {
   "cell_type": "markdown",
   "metadata": {},
   "source": [
    "##### Method One"
   ]
  },
  {
   "cell_type": "code",
   "execution_count": 4,
   "metadata": {},
   "outputs": [
    {
     "name": "stdout",
     "output_type": "stream",
     "text": [
      "[[2175 2193 2073]\n",
      " [1877 1895 1793]\n",
      " [1862 1898 1784]]\n"
     ]
    }
   ],
   "source": [
    "print(np.dot(A,B))"
   ]
  },
  {
   "cell_type": "markdown",
   "metadata": {},
   "source": [
    "##### Method Two"
   ]
  },
  {
   "cell_type": "code",
   "execution_count": 5,
   "metadata": {},
   "outputs": [
    {
     "name": "stdout",
     "output_type": "stream",
     "text": [
      "[[2175 2193 2073]\n",
      " [1877 1895 1793]\n",
      " [1862 1898 1784]]\n"
     ]
    }
   ],
   "source": [
    "print(np.matmul(A,B))"
   ]
  },
  {
   "cell_type": "markdown",
   "metadata": {},
   "source": [
    "### Element wise Multiplication : Hadamard Product"
   ]
  },
  {
   "cell_type": "code",
   "execution_count": 6,
   "metadata": {},
   "outputs": [
    {
     "name": "stdout",
     "output_type": "stream",
     "text": [
      "[[645 735 774]\n",
      " [528 864 552]\n",
      " [630 615 492]]\n"
     ]
    }
   ],
   "source": [
    "print(A*B)"
   ]
  }
 ],
 "metadata": {
  "kernelspec": {
   "display_name": "Python 3",
   "language": "python",
   "name": "python3"
  },
  "language_info": {
   "codemirror_mode": {
    "name": "ipython",
    "version": 3
   },
   "file_extension": ".py",
   "mimetype": "text/x-python",
   "name": "python",
   "nbconvert_exporter": "python",
   "pygments_lexer": "ipython3",
   "version": "3.7.3"
  }
 },
 "nbformat": 4,
 "nbformat_minor": 2
}

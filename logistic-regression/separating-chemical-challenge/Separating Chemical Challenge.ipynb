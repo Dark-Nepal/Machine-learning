{
 "cells": [
  {
   "cell_type": "markdown",
   "metadata": {},
   "source": [
    "# Separating Chemical [Challenge]\n",
    "👨‍💻 **Arjun Adhikari**, July 20, 2019"
   ]
  },
  {
   "cell_type": "markdown",
   "metadata": {},
   "source": [
    "Import the required libraries."
   ]
  },
  {
   "cell_type": "code",
   "execution_count": 1,
   "metadata": {},
   "outputs": [],
   "source": [
    "import matplotlib.pyplot as plt\n",
    "import pandas as pd\n",
    "import numpy as np\n",
    "%matplotlib inline"
   ]
  },
  {
   "cell_type": "markdown",
   "metadata": {},
   "source": [
    "### Importing the datasets"
   ]
  },
  {
   "cell_type": "code",
   "execution_count": 2,
   "metadata": {},
   "outputs": [
    {
     "name": "stdout",
     "output_type": "stream",
     "text": [
      "(3000, 3)\n",
      "(3000, 1)\n"
     ]
    }
   ],
   "source": [
    "dfx=pd.read_csv('Logistic_X_Train.csv')\n",
    "dfy=pd.read_csv('Logistic_Y_Train.csv')\n",
    "print(dfx.shape)\n",
    "print(dfy.shape)"
   ]
  },
  {
   "cell_type": "code",
   "execution_count": 3,
   "metadata": {},
   "outputs": [
    {
     "name": "stdout",
     "output_type": "stream",
     "text": [
      "         f1        f2        f3\n",
      "0 -1.239375  0.749101 -0.528515\n",
      "1 -1.036070  0.801436 -1.283712\n",
      "2 -0.615579  1.579521 -1.391927\n",
      "3  1.335978  1.348651  1.433564\n",
      "4  0.658925  1.300019  0.571603\n"
     ]
    }
   ],
   "source": [
    "print(dfx.head())"
   ]
  },
  {
   "cell_type": "code",
   "execution_count": 4,
   "metadata": {},
   "outputs": [],
   "source": [
    "dfx=dfx.values\n",
    "dfy=dfy.values"
   ]
  },
  {
   "cell_type": "code",
   "execution_count": 5,
   "metadata": {},
   "outputs": [],
   "source": [
    "#ones=np.ones((dfx.shape[0],1))\n",
    "#X=np.concatenate((ones,dfx),axis=1)\n",
    "Y=dfy\n",
    "X=dfx"
   ]
  },
  {
   "cell_type": "markdown",
   "metadata": {},
   "source": [
    "### Applying Algorithm"
   ]
  },
  {
   "cell_type": "markdown",
   "metadata": {},
   "source": [
    "#### Hypothesis Function"
   ]
  },
  {
   "cell_type": "code",
   "execution_count": 6,
   "metadata": {},
   "outputs": [],
   "source": [
    "def hypothesis(theta,b,x):\n",
    "    \n",
    "    h=np.dot(x,theta)+b\n",
    "    return sigmoid(h)"
   ]
  },
  {
   "cell_type": "markdown",
   "metadata": {},
   "source": [
    "#### Sigmoid Function"
   ]
  },
  {
   "cell_type": "code",
   "execution_count": 7,
   "metadata": {},
   "outputs": [],
   "source": [
    "def sigmoid(z):\n",
    "    \n",
    "    return (1.0/(1+np.exp(-1.0*z)))"
   ]
  },
  {
   "cell_type": "markdown",
   "metadata": {},
   "source": [
    "#### Error Function"
   ]
  },
  {
   "cell_type": "code",
   "execution_count": 8,
   "metadata": {},
   "outputs": [],
   "source": [
    "def error(theta,X,b,Y_true):\n",
    "    \n",
    "    err=0.0\n",
    "    m=X.shape[0]\n",
    "    \n",
    "    for i in range(m):\n",
    "        h=hypothesis(theta,b,X[i])\n",
    "        err+=(Y_true[i]*np.log2(h)+ (1-Y_true[i])*(np.log2(1-h)))\n",
    "        \n",
    "    return -err/m"
   ]
  },
  {
   "cell_type": "markdown",
   "metadata": {},
   "source": [
    "#### Getting the Gradients"
   ]
  },
  {
   "cell_type": "code",
   "execution_count": 9,
   "metadata": {},
   "outputs": [],
   "source": [
    "def getgrads(theta,X,b,Y_true):\n",
    "    \n",
    "    grad_w=np.zeros(theta.shape[0],)\n",
    "    grad_b=0.0\n",
    "    m=X.shape[0]\n",
    "    \n",
    "    for i in range(m):\n",
    "        hx=hypothesis(theta,b,X[i])\n",
    "        grad_w+=(Y_true[i]-hx)*X[i]\n",
    "        grad_b+=(Y_true[i]-hx)\n",
    "        \n",
    "    grad_w/=m\n",
    "    grad_b/=m\n",
    "    \n",
    "    return (grad_w,grad_b)"
   ]
  },
  {
   "cell_type": "markdown",
   "metadata": {},
   "source": [
    "#### Gradient Descent Algorithm"
   ]
  },
  {
   "cell_type": "code",
   "execution_count": 10,
   "metadata": {},
   "outputs": [],
   "source": [
    "def gradientDescent(X,Y_true,w,b,learning_rate=0.1,max_itr=10):\n",
    "    \n",
    "    itr=0\n",
    "    total_err = []\n",
    "    \n",
    "    for itr in range(max_itr):\n",
    "        err=error(w,X,b,Y_true)\n",
    "        total_err.append(err)\n",
    "        grad_w,grad_b=getgrads(w,X,b,Y_true)\n",
    "        \n",
    "        w=w+learning_rate*grad_w\n",
    "        b=b+learning_rate*grad_b\n",
    "        \n",
    "    return(w,b, total_err)"
   ]
  },
  {
   "cell_type": "code",
   "execution_count": 11,
   "metadata": {},
   "outputs": [],
   "source": [
    "w=np.random.random(X.shape[1])\n",
    "b=np.random.random()"
   ]
  },
  {
   "cell_type": "code",
   "execution_count": 12,
   "metadata": {},
   "outputs": [
    {
     "data": {
      "text/plain": [
       "(3000, 3)"
      ]
     },
     "execution_count": 12,
     "metadata": {},
     "output_type": "execute_result"
    }
   ],
   "source": [
    "X.shape"
   ]
  },
  {
   "cell_type": "code",
   "execution_count": 13,
   "metadata": {},
   "outputs": [
    {
     "data": {
      "text/plain": [
       "(3000, 1)"
      ]
     },
     "execution_count": 13,
     "metadata": {},
     "output_type": "execute_result"
    }
   ],
   "source": [
    "Y.shape"
   ]
  },
  {
   "cell_type": "code",
   "execution_count": 14,
   "metadata": {},
   "outputs": [],
   "source": [
    "w,b, losses =gradientDescent(X,Y,w,b,learning_rate=0.1,max_itr=100)"
   ]
  },
  {
   "cell_type": "code",
   "execution_count": 15,
   "metadata": {},
   "outputs": [
    {
     "name": "stdout",
     "output_type": "stream",
     "text": [
      "[-1.27012871  0.29408341 -1.20873192]\n",
      "[-0.04161151]\n"
     ]
    }
   ],
   "source": [
    "print(w)\n",
    "print(b)"
   ]
  },
  {
   "cell_type": "markdown",
   "metadata": {},
   "source": [
    "#### Plotting the losses"
   ]
  },
  {
   "cell_type": "code",
   "execution_count": 16,
   "metadata": {},
   "outputs": [
    {
     "data": {
      "image/png": "[encoded data removed]",
      "text/plain": [
       "<Figure size 432x288 with 1 Axes>"
      ]
     },
     "metadata": {
      "needs_background": "light"
     },
     "output_type": "display_data"
    }
   ],
   "source": [
    "plt.plot(losses)\n",
    "plt.show()"
   ]
  },
  {
   "cell_type": "markdown",
   "metadata": {},
   "source": [
    "### Testing Result"
   ]
  },
  {
   "cell_type": "code",
   "execution_count": 17,
   "metadata": {},
   "outputs": [
    {
     "name": "stdout",
     "output_type": "stream",
     "text": [
      "(1000, 3)\n"
     ]
    }
   ],
   "source": [
    "df_test=pd.read_csv('Logistic_X_Test.csv')\n",
    "print(df_test.shape)"
   ]
  },
  {
   "cell_type": "code",
   "execution_count": 18,
   "metadata": {},
   "outputs": [],
   "source": [
    "df_test=np.array(df_test)\n",
    "pred=[]\n",
    "\n",
    "for i in range(df_test.shape[0]):\n",
    "    \n",
    "    confidence=hypothesis(w,b,df_test[i])\n",
    "    \n",
    "    if(confidence<0.5):\n",
    "        pred.append(0)\n",
    "    else:\n",
    "        pred.append(1)"
   ]
  },
  {
   "cell_type": "code",
   "execution_count": 19,
   "metadata": {},
   "outputs": [
    {
     "name": "stdout",
     "output_type": "stream",
     "text": [
      "1000\n"
     ]
    }
   ],
   "source": [
    "print(len(pred))"
   ]
  },
  {
   "cell_type": "code",
   "execution_count": 20,
   "metadata": {},
   "outputs": [],
   "source": [
    "result_df=pd.DataFrame(pred,columns=[\"label\"])"
   ]
  },
  {
   "cell_type": "code",
   "execution_count": 21,
   "metadata": {},
   "outputs": [],
   "source": [
    "result_df.to_csv(\"Final.csv\",index=False)"
   ]
  },
  {
   "cell_type": "markdown",
   "metadata": {},
   "source": [
    "After getting the result, I exported to ```Final.csv```."
   ]
  }
 ],
 "metadata": {
  "kernelspec": {
   "display_name": "Python 3",
   "language": "python",
   "name": "python3"
  },
  "language_info": {
   "codemirror_mode": {
    "name": "ipython",
    "version": 2
   },
   "file_extension": ".py",
   "mimetype": "text/x-python",
   "name": "python",
   "nbconvert_exporter": "python",
   "pygments_lexer": "ipython2",
   "version": "2.7.15+"
  }
 },
 "nbformat": 4,
 "nbformat_minor": 2
}

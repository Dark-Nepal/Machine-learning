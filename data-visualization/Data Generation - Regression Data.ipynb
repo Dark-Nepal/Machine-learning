{
 "cells": [
  {
   "cell_type": "markdown",
   "metadata": {},
   "source": [
    "# Data Generation - Regression Data"
   ]
  },
  {
   "cell_type": "markdown",
   "metadata": {},
   "source": [
    "✍ **Arjun Adhikari**, June 1, 2019"
   ]
  },
  {
   "cell_type": "code",
   "execution_count": 1,
   "metadata": {},
   "outputs": [],
   "source": [
    "import numpy as np\n",
    "import matplotlib.pyplot as plt"
   ]
  },
  {
   "cell_type": "code",
   "execution_count": 2,
   "metadata": {},
   "outputs": [
    {
     "name": "stdout",
     "output_type": "stream",
     "text": [
      "[57.36714538 52.46992038 46.54694782 44.10383887 52.06585464 55.00526213\n",
      " 56.8787596  41.2529883  53.65266657 52.05912034 47.8292301  53.76814204\n",
      " 51.04205147 52.31280717 54.87585166 55.44357029 36.52960414 41.19826108\n",
      " 42.49454815 56.17460033 53.03073782 61.04113771 53.23801476 47.59102415\n",
      " 42.02321376 49.0016555  48.35151944 48.03864228 48.6049331  50.07362535\n",
      " 51.92589792 44.95072419 48.1507493  51.35086976 43.42667855 50.37964751\n",
      " 52.88987152 49.12755068 53.90456922 38.74313358 46.7612909  60.78387563\n",
      " 44.66738883 53.68308387 53.23146834 52.50437757 58.56777168 49.48168025\n",
      " 48.40886329 50.00618891 48.58853595 55.34431273 50.16768876 56.16736647\n",
      " 55.66486613 44.06605956 49.61604404 50.89803272 47.00582605 56.49293561\n",
      " 49.95685779 44.25346531 53.91955721 42.19444949 40.5288564  53.44658521\n",
      " 44.83156229 49.65906411 48.06538672 47.69778741 53.8710105  50.44210694\n",
      " 58.68627716 56.36993595 48.84668233 48.09321352 38.30238356 54.21596146\n",
      " 54.59867575 46.10390753 48.32949216 46.76431337 50.98443558 46.64971358\n",
      " 61.39797914 46.7318431  36.01274746 46.00596834 56.80347262 52.28542999\n",
      " 46.0879776  53.13523635 51.30724123 57.53910292 48.86371824 49.7036095\n",
      " 43.91893453 53.89566496 50.00021104 57.69512282]\n"
     ]
    }
   ],
   "source": [
    "mean = 50\n",
    "std_deviation = 5\n",
    "x =  (np.random.randn(100)*std_deviation + mean)\n",
    "print(x)"
   ]
  },
  {
   "cell_type": "markdown",
   "metadata": {},
   "source": [
    "### Plotting Histogram"
   ]
  },
  {
   "cell_type": "code",
   "execution_count": 3,
   "metadata": {},
   "outputs": [
    {
     "data": {
      "text/plain": [
       "(array([ 3.,  2.,  6., 10., 18., 18., 18., 13.,  9.,  3.]),\n",
       " array([36.01274746, 38.55127063, 41.08979379, 43.62831696, 46.16684013,\n",
       "        48.7053633 , 51.24388647, 53.78240964, 56.32093281, 58.85945597,\n",
       "        61.39797914]),\n",
       " <a list of 10 Patch objects>)"
      ]
     },
     "execution_count": 3,
     "metadata": {},
     "output_type": "execute_result"
    },
    {
     "data": {
      "image/png": "[encoded data removed]",
      "text/plain": [
       "<Figure size 432x288 with 1 Axes>"
      ]
     },
     "metadata": {
      "needs_background": "light"
     },
     "output_type": "display_data"
    }
   ],
   "source": [
    "plt.hist(x)"
   ]
  },
  {
   "cell_type": "markdown",
   "metadata": {},
   "source": [
    "Now, the mean is shifted towards 50."
   ]
  },
  {
   "cell_type": "code",
   "execution_count": 4,
   "metadata": {},
   "outputs": [
    {
     "name": "stdout",
     "output_type": "stream",
     "text": [
      "[-1.19835935  0.4576109  -0.95493567 -0.21410506 -0.78523668  0.57366008\n",
      " -0.6639008   1.2492257  -0.38617321  1.41953138 -0.75577154 -1.05273093\n",
      "  0.32111765  0.21115001 -0.46083084 -0.41307032  1.75675513 -1.8904368\n",
      "  0.95977702  0.32572399  0.94271567  1.21390735  0.32054248 -0.48693782\n",
      " -1.34197348  1.61739409 -0.78321742  1.57576984 -1.69474798 -0.23867941\n",
      "  0.71195068  0.55232796 -1.20806792 -0.09707653 -1.59630258  0.4176929\n",
      " -1.37885229  0.59084877  1.58635138  0.42011572 -1.02824383  0.10830336\n",
      " -2.04708661  0.61985428  0.87617329  1.51463866  0.67555728 -0.38409789\n",
      "  0.20135131  0.7714228   1.16881258  0.52270045  1.48767869 -0.72481306\n",
      "  0.55655746 -0.35846865  0.51867948  0.78532308  0.09348897 -0.54062818\n",
      "  0.86478839 -2.06065642 -0.98358527 -1.06128594 -0.63481145 -0.99342965\n",
      "  0.43726087  2.32493335  0.15682283 -0.78945779  0.16758825  0.09681149\n",
      "  1.17797828  0.7350557   0.54132869  1.5797196  -0.28276933  0.04427987\n",
      "  1.0936264  -1.70302954  1.49472422 -0.79769413 -1.00078895 -0.35970333\n",
      " -1.03210597 -0.9712647  -0.96925683 -0.3875626  -2.00702767  0.29666943\n",
      "  1.71396163  0.22325992  1.83761411 -0.46454949  2.00298703  1.58311465\n",
      "  0.86643502 -0.64757214  0.90047585 -1.06983877]\n"
     ]
    }
   ],
   "source": [
    "mean = 0\n",
    "std_deviation = 1\n",
    "x =  (np.random.randn(100)*std_deviation + mean)\n",
    "print(x)"
   ]
  },
  {
   "cell_type": "code",
   "execution_count": 5,
   "metadata": {},
   "outputs": [
    {
     "data": {
      "text/plain": [
       "(array([ 6.,  5., 16., 14.,  8., 18., 14.,  6., 11.,  2.]),\n",
       " array([-2.06065642, -1.62209744, -1.18353846, -0.74497949, -0.30642051,\n",
       "         0.13213846,  0.57069744,  1.00925642,  1.44781539,  1.88637437,\n",
       "         2.32493335]),\n",
       " <a list of 10 Patch objects>)"
      ]
     },
     "execution_count": 5,
     "metadata": {},
     "output_type": "execute_result"
    },
    {
     "data": {
      "image/png": "[encoded data removed]",
      "text/plain": [
       "<Figure size 432x288 with 1 Axes>"
      ]
     },
     "metadata": {
      "needs_background": "light"
     },
     "output_type": "display_data"
    }
   ],
   "source": [
    "plt.hist(x)"
   ]
  },
  {
   "cell_type": "markdown",
   "metadata": {},
   "source": [
    "Now, the mean is shifted towards 1."
   ]
  },
  {
   "cell_type": "code",
   "execution_count": 6,
   "metadata": {},
   "outputs": [
    {
     "name": "stdout",
     "output_type": "stream",
     "text": [
      "[-0.30340599  0.64673449  1.75455724 ...  1.30504483 -0.53396859\n",
      "  1.32840992]\n"
     ]
    }
   ],
   "source": [
    "mean = 0\n",
    "std_deviation = 1\n",
    "x =  (np.random.randn(3000)*std_deviation + mean)\n",
    "print(x)"
   ]
  },
  {
   "cell_type": "code",
   "execution_count": 7,
   "metadata": {},
   "outputs": [
    {
     "name": "stdout",
     "output_type": "stream",
     "text": [
      "(3000,) (3000,)\n"
     ]
    }
   ],
   "source": [
    "y = 2*x + 3\n",
    "print(x.shape, y.shape)"
   ]
  },
  {
   "cell_type": "code",
   "execution_count": 8,
   "metadata": {},
   "outputs": [
    {
     "data": {
      "text/plain": [
       "<matplotlib.collections.PathCollection at 0x26ff3dafa58>"
      ]
     },
     "execution_count": 8,
     "metadata": {},
     "output_type": "execute_result"
    },
    {
     "data": {
      "image/png": "[encoded data removed]",
      "text/plain": [
       "<Figure size 432x288 with 1 Axes>"
      ]
     },
     "metadata": {
      "needs_background": "light"
     },
     "output_type": "display_data"
    }
   ],
   "source": [
    "plt.scatter(x,y, color='blue')"
   ]
  },
  {
   "cell_type": "markdown",
   "metadata": {},
   "source": [
    "Here, the most is centered toward mean.  \n",
    "The probability of finding X is less when it's more than 0 and less than 0."
   ]
  },
  {
   "cell_type": "code",
   "execution_count": 9,
   "metadata": {},
   "outputs": [],
   "source": [
    "mean = 0\n",
    "std_deviation = 1\n",
    "x =  (np.random.randn(300)*std_deviation + mean)\n",
    "noise = np.random.randn(300)"
   ]
  },
  {
   "cell_type": "code",
   "execution_count": 10,
   "metadata": {},
   "outputs": [],
   "source": [
    "y = 3*x + noise"
   ]
  },
  {
   "cell_type": "code",
   "execution_count": 11,
   "metadata": {},
   "outputs": [
    {
     "data": {
      "image/png": "[encoded data removed]",
      "text/plain": [
       "<Figure size 432x288 with 1 Axes>"
      ]
     },
     "metadata": {
      "needs_background": "light"
     },
     "output_type": "display_data"
    }
   ],
   "source": [
    "plt.scatter(x, y, color='red')\n",
    "plt.show()"
   ]
  },
  {
   "cell_type": "markdown",
   "metadata": {},
   "source": [
    "Noise is added to test variation within data.   \n",
    "When we study regression later, our goal should be to find ideal function which maps the most of the scattered dots into a line."
   ]
  },
  {
   "cell_type": "markdown",
   "metadata": {},
   "source": [
    "We will provide algorithm to learn from these data later."
   ]
  }
 ],
 "metadata": {
  "kernelspec": {
   "display_name": "Python 3",
   "language": "python",
   "name": "python3"
  },
  "language_info": {
   "codemirror_mode": {
    "name": "ipython",
    "version": 3
   },
   "file_extension": ".py",
   "mimetype": "text/x-python",
   "name": "python",
   "nbconvert_exporter": "python",
   "pygments_lexer": "ipython3",
   "version": "3.7.3"
  }
 },
 "nbformat": 4,
 "nbformat_minor": 2
}

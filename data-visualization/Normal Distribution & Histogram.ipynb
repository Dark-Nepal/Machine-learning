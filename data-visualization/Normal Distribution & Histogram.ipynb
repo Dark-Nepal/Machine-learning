{
 "cells": [
  {
   "cell_type": "markdown",
   "metadata": {},
   "source": [
    "# Normal Distribution & Histogram\n",
    "✍ **Arjun Adhikari**, June 2, 2019"
   ]
  },
  {
   "cell_type": "markdown",
   "metadata": {},
   "source": [
    "### Uniform Distribution"
   ]
  },
  {
   "cell_type": "markdown",
   "metadata": {},
   "source": [
    "![Dices](https://thearjun.tech/content/dice.jpg)"
   ]
  },
  {
   "cell_type": "code",
   "execution_count": 7,
   "metadata": {},
   "outputs": [
    {
     "data": {
      "image/png": "[encoded data removed]",
      "text/plain": [
       "<Figure size 432x288 with 1 Axes>"
      ]
     },
     "metadata": {
      "needs_background": "light"
     },
     "output_type": "display_data"
    }
   ],
   "source": [
    "import matplotlib.pyplot as plt\n",
    "import numpy as np\n",
    "\n",
    "x = np.array([1,2,3,4,5,6])\n",
    "y = x/x # For generating 1\n",
    "\n",
    "plt.plot(x,y, color='red')\n",
    "plt.title('Probability of occuring of each faces of Dice')\n",
    "plt.xlabel('Faces of Dice')\n",
    "plt.ylabel('Probability of Occurence')\n",
    "plt.show()"
   ]
  },
  {
   "cell_type": "markdown",
   "metadata": {},
   "source": [
    "For the case of dices, they follow uniform distribution, the probability of each event is equal in this case.  \n",
    "This sort of distribution is rare in real life.  \n",
    "\n",
    "In real life, the distribution of events that occurs is **Normal Distribution**."
   ]
  },
  {
   "cell_type": "markdown",
   "metadata": {},
   "source": [
    "## Normal Distribution"
   ]
  },
  {
   "cell_type": "markdown",
   "metadata": {},
   "source": [
    "- Continous Probability Distribution\n",
    "- Characterized by : $\\mu$ and $\\sigma$  \n",
    "    where $\\mu$ is the mean of the distribution and  \n",
    "    $\\sigma$ is the standard deviation of the distribution."
   ]
  },
  {
   "cell_type": "markdown",
   "metadata": {},
   "source": [
    "To generate the random data for normal distribution, we use:  \n",
    "    ```np.random.rand(no_of_data)```"
   ]
  },
  {
   "cell_type": "code",
   "execution_count": 2,
   "metadata": {},
   "outputs": [],
   "source": [
    "u = 10\n",
    "std = 1.5\n",
    "\n",
    "X = u + std*np.random.randn(100)"
   ]
  },
  {
   "cell_type": "markdown",
   "metadata": {},
   "source": [
    "While Bar Graph takes two parameters, histogram takes one parameters."
   ]
  },
  {
   "cell_type": "code",
   "execution_count": 3,
   "metadata": {},
   "outputs": [
    {
     "data": {
      "image/png": "[encoded data removed]",
      "text/plain": [
       "<Figure size 432x288 with 1 Axes>"
      ]
     },
     "metadata": {
      "needs_background": "light"
     },
     "output_type": "display_data"
    }
   ],
   "source": [
    "plt.hist(X)\n",
    "plt.title('Histogram of the Arbitary Normal Distribution')\n",
    "plt.show()"
   ]
  },
  {
   "cell_type": "markdown",
   "metadata": {},
   "source": [
    "From the graph, we can see the data is centered around 10 which is the mean of the normal distribution."
   ]
  },
  {
   "cell_type": "code",
   "execution_count": 4,
   "metadata": {},
   "outputs": [
    {
     "data": {
      "image/png": "[encoded data removed]",
      "text/plain": [
       "<Figure size 432x288 with 1 Axes>"
      ]
     },
     "metadata": {
      "needs_background": "light"
     },
     "output_type": "display_data"
    }
   ],
   "source": [
    "u = 10\n",
    "std = 5\n",
    "\n",
    "X = u + std*np.random.randn(1000)\n",
    "plt.hist(X, 50) # 50 - Width of the histogram\n",
    "plt.title('Histogram of the Arbitary Normal Distribution - Two')\n",
    "plt.show()"
   ]
  },
  {
   "cell_type": "markdown",
   "metadata": {},
   "source": [
    "Here, the histogram is flattened because the standard deviation is increased from 1.5 to 5."
   ]
  },
  {
   "cell_type": "code",
   "execution_count": 5,
   "metadata": {},
   "outputs": [],
   "source": [
    "rounded_X = np.round(X)"
   ]
  },
  {
   "cell_type": "code",
   "execution_count": 6,
   "metadata": {},
   "outputs": [
    {
     "name": "stdout",
     "output_type": "stream",
     "text": [
      "(array([-9., -4., -3., -2., -1., -0.,  1.,  2.,  3.,  4.,  5.,  6.,  7.,\n",
      "        8.,  9., 10., 11., 12., 13., 14., 15., 16., 17., 18., 19., 20.,\n",
      "       21., 22., 23., 24., 25., 26., 27.]), array([ 1,  1,  1,  4,  7, 11, 16, 19, 27, 29, 54, 58, 71, 73, 82, 86, 88,\n",
      "       74, 62, 56, 46, 45, 32, 24,  5, 10,  3,  6,  3,  3,  1,  1,  1],\n",
      "      dtype=int64))\n"
     ]
    }
   ],
   "source": [
    "z = np.unique(rounded_X, return_counts=True) # return_counts returns a array of counts for respective elements.\n",
    "print(z)"
   ]
  },
  {
   "cell_type": "markdown",
   "metadata": {},
   "source": [
    "Here, first element of the first array is appeared (first element of the second array) times.   \n",
    "It means ```-2(first_array[3])``` appeared ```2(second_array[3])``` times.  \n",
    "and we assigned mean as 10, hence 10 appeared 91(highest) times in the distribution.   \n",
    "Also, the number nearer to 10 appeared most often like 49, 71 times."
   ]
  }
 ],
 "metadata": {
  "kernelspec": {
   "display_name": "Python 3",
   "language": "python",
   "name": "python3"
  },
  "language_info": {
   "codemirror_mode": {
    "name": "ipython",
    "version": 3
   },
   "file_extension": ".py",
   "mimetype": "text/x-python",
   "name": "python",
   "nbconvert_exporter": "python",
   "pygments_lexer": "ipython3",
   "version": "3.7.3"
  }
 },
 "nbformat": 4,
 "nbformat_minor": 2
}

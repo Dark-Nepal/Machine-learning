{
 "cells": [
  {
   "cell_type": "markdown",
   "metadata": {},
   "source": [
    "# Working with Pandas\n",
    "✍ **Arjun Adhikari**, June 2, 2019"
   ]
  },
  {
   "cell_type": "markdown",
   "metadata": {},
   "source": [
    "### Working with DataSet using Pandas\n",
    "\n",
    "- Pandas is an open source library\n",
    "- For Data Analysis in Python\n",
    "- Used for reading and writing files between in-memory data structures and files - CSVs, Tex Files, SQL Databases, Excel Sheets etc.\n",
    "- Reshaping, Slicing, Indexing, Merging and Joining Datasets"
   ]
  },
  {
   "cell_type": "markdown",
   "metadata": {},
   "source": [
    "### Installation\n",
    "\n",
    "```pip install pandas```"
   ]
  },
  {
   "cell_type": "markdown",
   "metadata": {},
   "source": [
    "### Movie Dataset"
   ]
  },
  {
   "cell_type": "code",
   "execution_count": 1,
   "metadata": {},
   "outputs": [],
   "source": [
    "import numpy as np\n",
    "import matplotlib.pyplot as plt\n",
    "import pandas as pd\n",
    "import os"
   ]
  },
  {
   "cell_type": "code",
   "execution_count": 2,
   "metadata": {},
   "outputs": [
    {
     "name": "stdout",
     "output_type": "stream",
     "text": [
      "C:\\Users\\arjun\\Desktop\\workspace\\machine-learning\\data-visualization\n"
     ]
    }
   ],
   "source": [
    "os.chdir(r\"C:\\users\\arjun\\Desktop\\workspace\\machine-learning\\data-visualization\")\n",
    "print(os.getcwd())"
   ]
  },
  {
   "cell_type": "code",
   "execution_count": 3,
   "metadata": {},
   "outputs": [
    {
     "name": "stdout",
     "output_type": "stream",
     "text": [
      "                                            movie_name                  actor  \\\n",
      "0                                    Snow on Tha Bluff         Norrie Kassman   \n",
      "1    Great Ecstasy of Woodcarver Steiner, The (Groß...         Lincoln Waddup   \n",
      "2                                         Angel's Leap             Issi Hyman   \n",
      "3                                   We're Not Dressing          Shalna Gobell   \n",
      "4                                       Hard Word, The           Frank Penman   \n",
      "5    Steamroller and the Violin, The (Katok i skripka)  Ferdinande McConville   \n",
      "6                          Sticky Fingers of Time, The     Mirabelle Kennealy   \n",
      "7                            For the Bible Tells Me So           Barde Duggen   \n",
      "8                Identification Marks: None (Rysopis)        Lurline Coupland   \n",
      "9               Homeward Bound: The Incredible Journey        Phylys Antoniat   \n",
      "10                                          Front, The          Corrie Bather   \n",
      "11                        How to Lose a Guy in 10 Days          Leela Bulluck   \n",
      "12                                 Ants in the Pants 2   Vilhelmina Lindemann   \n",
      "13            Wadd: The Life & Times of John C. Holmes        Elisabet Greest   \n",
      "14                                   Kind of Loving, A     Claiborne Jephcote   \n",
      "15                                           Disturbia         Antonius Fells   \n",
      "16                                       Blood Diamond       Adelheid Stanyer   \n",
      "17                                      Out of the Fog        Mohammed Sparks   \n",
      "18                Paris, I Love You (Paris, je t'aime)        Loreen Kullmann   \n",
      "19                      Brice Man, The (Brice de Nice)            Karna Hovee   \n",
      "20                                             Jason X           Pier Girhard   \n",
      "21                  Lightning Bolt: The Power of Salad      Pascale McBrearty   \n",
      "22                                             Michael          Gayle Gorbell   \n",
      "23                       Billy's Hollywood Screen Kiss          Devin Dolphin   \n",
      "24                       Lust for Gold (Duhul aurului)   Anjanette Millership   \n",
      "25   La Soufrière - Warten auf eine unausweichliche...           Ganny Bezley   \n",
      "26               Pelle the Conqueror (Pelle erobreren)         Chanda Grabiec   \n",
      "27                                      Daddy Day Care          Andris Downie   \n",
      "28                                              Images         Morris English   \n",
      "29                                     Woodstock Diary         Goraud Kintzel   \n",
      "..                                                 ...                    ...   \n",
      "970                                 Carriage to Vienna          Lee Halegarth   \n",
      "971                                    American Beauty         Fianna Balmann   \n",
      "972                                       I Am Fishead       Phillip Tasseler   \n",
      "973                                        Ice Castles       Robbert Gasgarth   \n",
      "974                                          Isolation         Kalvin Barents   \n",
      "975                Cemetery Man (Dellamorte Dellamore)           Raviv Geikie   \n",
      "976           Bad Lieutenant: Port of Call New Orleans           Emile Elrick   \n",
      "977                                 That Touch of Mink          Amelie Portal   \n",
      "978                 Days and Hours (Kod amidze Idriza)      Meagan Normanvill   \n",
      "979                                   Gypsy Moths, The         Camala Osborne   \n",
      "980                                            Fuck Up          Dasie Balfour   \n",
      "981                           Queen: Days of Our Lives        Mitchell Snaden   \n",
      "982                                           End Game          Hervey Karmel   \n",
      "983                        I Love You, Don't Touch Me!          Neila Ingleby   \n",
      "984                                       Hello Herman         Jamima Roumier   \n",
      "985                           Octopus, The (Le poulpe)       Sigrid Millichap   \n",
      "986                                   Pixar Story, The      Matias Holleworth   \n",
      "987                                    Lost in America          Zsazsa Graeme   \n",
      "988          Chilly Scenes of Winter (Head Over Heels)         Colan Rainford   \n",
      "989                                    Dampfnudelblues          Ilyse Bootton   \n",
      "990                 Thawing Out (La fonte des neiges)          Jonie Kirkness   \n",
      "991        To the Left of the Father (Lavoura Arcaica)        Amabel Burchess   \n",
      "992             Porn Theater (Chatte à deux têtes, La)     Marquita Kinworthy   \n",
      "993                      Interrogation (Przesluchanie)          Ruthy Joselin   \n",
      "994                         See You Tomorrow, Everyone            Ivy Chalker   \n",
      "995                                 Hearts of the West        Sonnie Slingsby   \n",
      "996                                              Mercy        Teodor Wombwell   \n",
      "997                                          Meet Bill          Karia Duplock   \n",
      "998                                         Crossroads         Blanch Cobbold   \n",
      "999                                         Oxy-Morons        Wallie Palister   \n",
      "\n",
      "         budget  superhit release_date  \n",
      "0    $625101.30      True    1/26/2013  \n",
      "1    $660483.27      True    1/30/2013  \n",
      "2    $119607.11     False    8/23/2016  \n",
      "3    $341784.35      True     1/3/2014  \n",
      "4    $325750.26     False    8/13/2015  \n",
      "5    $214138.09     False   11/13/2013  \n",
      "6    $275729.55      True    2/20/2013  \n",
      "7    $837314.98      True    5/21/2019  \n",
      "8    $705639.81      True     7/2/2014  \n",
      "9    $664060.30      True   11/19/2017  \n",
      "10   $756809.40      True    1/26/2011  \n",
      "11   $200423.21      True    1/17/2011  \n",
      "12   $812274.94     False    5/16/2013  \n",
      "13   $212534.78      True     9/5/2018  \n",
      "14   $909360.26      True    8/23/2011  \n",
      "15   $965571.52      True    4/26/2016  \n",
      "16   $125208.43     False    2/19/2014  \n",
      "17   $554663.27      True    8/16/2014  \n",
      "18   $957940.34     False     7/8/2011  \n",
      "19   $934587.84     False    8/20/2013  \n",
      "20   $255482.13     False    9/24/2015  \n",
      "21   $571751.63      True    8/15/2010  \n",
      "22   $225433.89      True   10/22/2010  \n",
      "23   $819813.93      True    6/15/2012  \n",
      "24   $409630.49     False     3/4/2013  \n",
      "25   $969254.45      True     6/4/2010  \n",
      "26   $165816.11     False    6/18/2011  \n",
      "27   $807429.49     False   10/19/2014  \n",
      "28   $556414.99     False    7/11/2010  \n",
      "29   $798310.59     False    1/26/2012  \n",
      "..          ...       ...          ...  \n",
      "970  $637378.79      True    7/18/2011  \n",
      "971  $224113.96      True   11/30/2015  \n",
      "972  $388153.53      True    2/20/2018  \n",
      "973  $867327.32      True   10/22/2015  \n",
      "974   $30325.75      True     8/3/2015  \n",
      "975  $793318.86     False     5/2/2012  \n",
      "976  $517974.38      True     6/5/2015  \n",
      "977  $215870.39     False   10/29/2017  \n",
      "978  $122217.90     False     1/7/2011  \n",
      "979  $362660.42     False   10/10/2018  \n",
      "980  $448200.78      True    6/19/2010  \n",
      "981  $933198.08     False    11/1/2013  \n",
      "982   $86774.34      True    3/31/2016  \n",
      "983  $679363.67      True   10/23/2011  \n",
      "984   $62099.38      True   11/19/2013  \n",
      "985   $51238.50      True     4/5/2018  \n",
      "986  $558581.17     False    9/22/2013  \n",
      "987  $447498.37     False   10/17/2011  \n",
      "988  $570887.77     False    9/12/2018  \n",
      "989  $931652.15     False   11/24/2016  \n",
      "990  $926241.57      True    5/16/2017  \n",
      "991  $799114.34      True    5/23/2012  \n",
      "992  $310983.15     False    9/15/2011  \n",
      "993  $432475.50     False   11/15/2015  \n",
      "994  $674700.44      True    9/10/2011  \n",
      "995   $29209.44     False    11/1/2013  \n",
      "996  $704228.18      True   12/29/2012  \n",
      "997  $738317.92      True    12/4/2017  \n",
      "998  $619914.77      True    1/26/2015  \n",
      "999  $930608.97     False    4/28/2016  \n",
      "\n",
      "[1000 rows x 5 columns]\n"
     ]
    }
   ],
   "source": [
    "movie_data = pd.read_csv('./csv/movie_data.csv')\n",
    "print(movie_data)"
   ]
  },
  {
   "cell_type": "markdown",
   "metadata": {},
   "source": [
    "### Reading Limited Data\n",
    "If we don't want to see the entire data, but the part of the data, we can call ```head()```."
   ]
  },
  {
   "cell_type": "code",
   "execution_count": 4,
   "metadata": {},
   "outputs": [
    {
     "name": "stdout",
     "output_type": "stream",
     "text": [
      "                                          movie_name           actor  \\\n",
      "0                                  Snow on Tha Bluff  Norrie Kassman   \n",
      "1  Great Ecstasy of Woodcarver Steiner, The (Groß...  Lincoln Waddup   \n",
      "2                                       Angel's Leap      Issi Hyman   \n",
      "3                                 We're Not Dressing   Shalna Gobell   \n",
      "4                                     Hard Word, The    Frank Penman   \n",
      "\n",
      "       budget  superhit release_date  \n",
      "0  $625101.30      True    1/26/2013  \n",
      "1  $660483.27      True    1/30/2013  \n",
      "2  $119607.11     False    8/23/2016  \n",
      "3  $341784.35      True     1/3/2014  \n",
      "4  $325750.26     False    8/13/2015  \n"
     ]
    }
   ],
   "source": [
    "print(movie_data.head())"
   ]
  },
  {
   "cell_type": "markdown",
   "metadata": {},
   "source": [
    "### Reading Limited no. of Data\n",
    "If we want to see just 10 rows, "
   ]
  },
  {
   "cell_type": "code",
   "execution_count": 5,
   "metadata": {},
   "outputs": [
    {
     "name": "stdout",
     "output_type": "stream",
     "text": [
      "                                          movie_name                  actor  \\\n",
      "0                                  Snow on Tha Bluff         Norrie Kassman   \n",
      "1  Great Ecstasy of Woodcarver Steiner, The (Groß...         Lincoln Waddup   \n",
      "2                                       Angel's Leap             Issi Hyman   \n",
      "3                                 We're Not Dressing          Shalna Gobell   \n",
      "4                                     Hard Word, The           Frank Penman   \n",
      "5  Steamroller and the Violin, The (Katok i skripka)  Ferdinande McConville   \n",
      "6                        Sticky Fingers of Time, The     Mirabelle Kennealy   \n",
      "7                          For the Bible Tells Me So           Barde Duggen   \n",
      "8              Identification Marks: None (Rysopis)        Lurline Coupland   \n",
      "9             Homeward Bound: The Incredible Journey        Phylys Antoniat   \n",
      "\n",
      "       budget  superhit release_date  \n",
      "0  $625101.30      True    1/26/2013  \n",
      "1  $660483.27      True    1/30/2013  \n",
      "2  $119607.11     False    8/23/2016  \n",
      "3  $341784.35      True     1/3/2014  \n",
      "4  $325750.26     False    8/13/2015  \n",
      "5  $214138.09     False   11/13/2013  \n",
      "6  $275729.55      True    2/20/2013  \n",
      "7  $837314.98      True    5/21/2019  \n",
      "8  $705639.81      True     7/2/2014  \n",
      "9  $664060.30      True   11/19/2017  \n"
     ]
    }
   ],
   "source": [
    "print(movie_data.head(10))"
   ]
  },
  {
   "cell_type": "markdown",
   "metadata": {},
   "source": [
    "### Reading Field Name\n",
    "If we just want to know the field of the data, we can call ```columns``` attribute, it returns the list of the fields."
   ]
  },
  {
   "cell_type": "code",
   "execution_count": 6,
   "metadata": {},
   "outputs": [
    {
     "name": "stdout",
     "output_type": "stream",
     "text": [
      "Index(['movie_name', 'actor', 'budget', 'superhit', 'release_date'], dtype='object')\n"
     ]
    }
   ],
   "source": [
    "field = movie_data.columns\n",
    "print(field)"
   ]
  },
  {
   "cell_type": "markdown",
   "metadata": {},
   "source": [
    "### Reading Data of the Particular Field / Column"
   ]
  },
  {
   "cell_type": "code",
   "execution_count": 7,
   "metadata": {},
   "outputs": [
    {
     "name": "stdout",
     "output_type": "stream",
     "text": [
      "0       1/26/2013\n",
      "1       1/30/2013\n",
      "2       8/23/2016\n",
      "3        1/3/2014\n",
      "4       8/13/2015\n",
      "5      11/13/2013\n",
      "6       2/20/2013\n",
      "7       5/21/2019\n",
      "8        7/2/2014\n",
      "9      11/19/2017\n",
      "10      1/26/2011\n",
      "11      1/17/2011\n",
      "12      5/16/2013\n",
      "13       9/5/2018\n",
      "14      8/23/2011\n",
      "15      4/26/2016\n",
      "16      2/19/2014\n",
      "17      8/16/2014\n",
      "18       7/8/2011\n",
      "19      8/20/2013\n",
      "20      9/24/2015\n",
      "21      8/15/2010\n",
      "22     10/22/2010\n",
      "23      6/15/2012\n",
      "24       3/4/2013\n",
      "25       6/4/2010\n",
      "26      6/18/2011\n",
      "27     10/19/2014\n",
      "28      7/11/2010\n",
      "29      1/26/2012\n",
      "          ...    \n",
      "970     7/18/2011\n",
      "971    11/30/2015\n",
      "972     2/20/2018\n",
      "973    10/22/2015\n",
      "974      8/3/2015\n",
      "975      5/2/2012\n",
      "976      6/5/2015\n",
      "977    10/29/2017\n",
      "978      1/7/2011\n",
      "979    10/10/2018\n",
      "980     6/19/2010\n",
      "981     11/1/2013\n",
      "982     3/31/2016\n",
      "983    10/23/2011\n",
      "984    11/19/2013\n",
      "985      4/5/2018\n",
      "986     9/22/2013\n",
      "987    10/17/2011\n",
      "988     9/12/2018\n",
      "989    11/24/2016\n",
      "990     5/16/2017\n",
      "991     5/23/2012\n",
      "992     9/15/2011\n",
      "993    11/15/2015\n",
      "994     9/10/2011\n",
      "995     11/1/2013\n",
      "996    12/29/2012\n",
      "997     12/4/2017\n",
      "998     1/26/2015\n",
      "999     4/28/2016\n",
      "Name: release_date, Length: 1000, dtype: object\n"
     ]
    }
   ],
   "source": [
    "release_date = movie_data.get('release_date')\n",
    "print(release_date)"
   ]
  },
  {
   "cell_type": "code",
   "execution_count": 8,
   "metadata": {
    "scrolled": true
   },
   "outputs": [
    {
     "name": "stdout",
     "output_type": "stream",
     "text": [
      "<class 'pandas.core.series.Series'>\n"
     ]
    }
   ],
   "source": [
    "print(type(release_date))"
   ]
  },
  {
   "cell_type": "markdown",
   "metadata": {},
   "source": [
    "Converting the data into list,"
   ]
  },
  {
   "cell_type": "code",
   "execution_count": 9,
   "metadata": {},
   "outputs": [
    {
     "name": "stdout",
     "output_type": "stream",
     "text": [
      "<class 'list'>\n"
     ]
    }
   ],
   "source": [
    "release_date = list(movie_data.get('release_date'))\n",
    "print(type(release_date))"
   ]
  },
  {
   "cell_type": "markdown",
   "metadata": {},
   "source": [
    "To convert the data into the ```numpy.ndarray```, we can call ```df.values``` for the dataframe ```df```."
   ]
  },
  {
   "cell_type": "code",
   "execution_count": 10,
   "metadata": {},
   "outputs": [
    {
     "name": "stdout",
     "output_type": "stream",
     "text": [
      "(1000, 5)\n",
      "<class 'numpy.ndarray'>\n"
     ]
    }
   ],
   "source": [
    "data = movie_data.values\n",
    "print(data.shape)\n",
    "print(type(data))"
   ]
  },
  {
   "cell_type": "markdown",
   "metadata": {},
   "source": [
    "## Insight Gathering from Data"
   ]
  },
  {
   "cell_type": "markdown",
   "metadata": {},
   "source": [
    "> Generate the graph of movie lengths with frequency of total characters."
   ]
  },
  {
   "cell_type": "code",
   "execution_count": 11,
   "metadata": {},
   "outputs": [
    {
     "name": "stdout",
     "output_type": "stream",
     "text": [
      "{17: 37, 88: 1, 12: 62, 18: 38, 14: 52, 49: 6, 27: 20, 25: 18, 37: 7, 38: 11, 10: 49, 28: 13, 19: 35, 40: 6, 9: 43, 13: 38, 36: 9, 30: 8, 7: 40, 34: 9, 29: 16, 58: 2, 6: 24, 15: 54, 8: 38, 11: 45, 23: 23, 24: 17, 16: 31, 21: 14, 50: 5, 22: 24, 20: 23, 35: 9, 41: 10, 4: 19, 32: 9, 62: 3, 83: 1, 96: 1, 5: 19, 26: 17, 57: 3, 31: 16, 33: 6, 43: 7, 59: 2, 61: 1, 44: 4, 64: 1, 55: 3, 48: 5, 42: 6, 52: 3, 39: 5, 81: 2, 45: 4, 46: 2, 75: 1, 63: 2, 54: 4, 100: 1, 47: 2, 56: 1, 68: 1, 86: 1, 51: 3, 93: 2, 76: 1, 65: 1, 89: 1, 2: 2, 3: 1}\n"
     ]
    }
   ],
   "source": [
    "title_frequency = {}\n",
    "for i in range(len(data)):\n",
    "    len_movie_title = len(data[i][0])\n",
    "    try:\n",
    "        title_frequency[len_movie_title] += 1\n",
    "    except:\n",
    "        title_frequency[len_movie_title] = 1\n",
    "        \n",
    "print(title_frequency)"
   ]
  },
  {
   "cell_type": "code",
   "execution_count": 12,
   "metadata": {},
   "outputs": [],
   "source": [
    "len_title = list(title_frequency.keys())\n",
    "frequency = list(title_frequency.values())\n",
    "\n",
    "X = np.array(len_title)\n",
    "Y = np.array(frequency)"
   ]
  },
  {
   "cell_type": "code",
   "execution_count": 13,
   "metadata": {},
   "outputs": [
    {
     "data": {
      "image/png": "[encoded data removed]",
      "text/plain": [
       "<Figure size 432x288 with 1 Axes>"
      ]
     },
     "metadata": {
      "needs_background": "light"
     },
     "output_type": "display_data"
    }
   ],
   "source": [
    "plt.scatter(X, Y, marker='.', color='red', label='Movie Title Word Count')\n",
    "plt.legend()\n",
    "plt.title(\"Frequency of Length of Movie Titles\")\n",
    "plt.xlabel(\"Length of Movie Titles\")\n",
    "plt.ylabel(\"Frequency\")\n",
    "plt.show()"
   ]
  },
  {
   "cell_type": "markdown",
   "metadata": {},
   "source": [
    "From the graph, we can see that it follows some sort of **Random Distribution** which is common in real life."
   ]
  }
 ],
 "metadata": {
  "kernelspec": {
   "display_name": "Python 3",
   "language": "python",
   "name": "python3"
  },
  "language_info": {
   "codemirror_mode": {
    "name": "ipython",
    "version": 3
   },
   "file_extension": ".py",
   "mimetype": "text/x-python",
   "name": "python",
   "nbconvert_exporter": "python",
   "pygments_lexer": "ipython3",
   "version": "3.7.3"
  }
 },
 "nbformat": 4,
 "nbformat_minor": 2
}

{
 "cells": [
  {
   "cell_type": "markdown",
   "metadata": {},
   "source": [
    "# Working with Pandas\n",
    "✍ **Arjun Adhikari**, June 2, 2019"
   ]
  },
  {
   "cell_type": "markdown",
   "metadata": {},
   "source": [
    "### MNIST Dataset\n",
    "\n",
    "[Link for Dataset](https://www.kaggle.com/oddrationale/mnist-in-csv#mnist_train.csv)"
   ]
  },
  {
   "cell_type": "code",
   "execution_count": 1,
   "metadata": {},
   "outputs": [],
   "source": [
    "import numpy as np\n",
    "import matplotlib.pyplot as plt\n",
    "import pandas as pd\n",
    "import os"
   ]
  },
  {
   "cell_type": "code",
   "execution_count": 2,
   "metadata": {},
   "outputs": [
    {
     "name": "stdout",
     "output_type": "stream",
     "text": [
      "C:\\Users\\arjun\\Desktop\\workspace\\machine-learning\\data-visualization\n"
     ]
    }
   ],
   "source": [
    "os.chdir(r\"C:\\users\\arjun\\Desktop\\workspace\\machine-learning\\data-visualization\")\n",
    "print(os.getcwd())"
   ]
  },
  {
   "cell_type": "code",
   "execution_count": 3,
   "metadata": {},
   "outputs": [
    {
     "name": "stdout",
     "output_type": "stream",
     "text": [
      "<class 'pandas.core.frame.DataFrame'>\n"
     ]
    }
   ],
   "source": [
    "mnist = pd.read_csv('mnist_train.csv')\n",
    "print(type(mnist))"
   ]
  },
  {
   "cell_type": "code",
   "execution_count": 4,
   "metadata": {},
   "outputs": [
    {
     "name": "stdout",
     "output_type": "stream",
     "text": [
      "       label  1x1  1x2  1x3  1x4  1x5  1x6  1x7  1x8  1x9  ...  28x19  28x20  \\\n",
      "0          5    0    0    0    0    0    0    0    0    0  ...      0      0   \n",
      "1          0    0    0    0    0    0    0    0    0    0  ...      0      0   \n",
      "2          4    0    0    0    0    0    0    0    0    0  ...      0      0   \n",
      "3          1    0    0    0    0    0    0    0    0    0  ...      0      0   \n",
      "4          9    0    0    0    0    0    0    0    0    0  ...      0      0   \n",
      "5          2    0    0    0    0    0    0    0    0    0  ...      0      0   \n",
      "6          1    0    0    0    0    0    0    0    0    0  ...      0      0   \n",
      "7          3    0    0    0    0    0    0    0    0    0  ...      0      0   \n",
      "8          1    0    0    0    0    0    0    0    0    0  ...      0      0   \n",
      "9          4    0    0    0    0    0    0    0    0    0  ...      0      0   \n",
      "10         3    0    0    0    0    0    0    0    0    0  ...      0      0   \n",
      "11         5    0    0    0    0    0    0    0    0    0  ...      0      0   \n",
      "12         3    0    0    0    0    0    0    0    0    0  ...      0      0   \n",
      "13         6    0    0    0    0    0    0    0    0    0  ...      0      0   \n",
      "14         1    0    0    0    0    0    0    0    0    0  ...      0      0   \n",
      "15         7    0    0    0    0    0    0    0    0    0  ...      0      0   \n",
      "16         2    0    0    0    0    0    0    0    0    0  ...      0      0   \n",
      "17         8    0    0    0    0    0    0    0    0    0  ...      0      0   \n",
      "18         6    0    0    0    0    0    0    0    0    0  ...      0      0   \n",
      "19         9    0    0    0    0    0    0    0    0    0  ...      0      0   \n",
      "20         4    0    0    0    0    0    0    0    0    0  ...      0      0   \n",
      "21         0    0    0    0    0    0    0    0    0    0  ...      0      0   \n",
      "22         9    0    0    0    0    0    0    0    0    0  ...      0      0   \n",
      "23         1    0    0    0    0    0    0    0    0    0  ...      0      0   \n",
      "24         1    0    0    0    0    0    0    0    0    0  ...      0      0   \n",
      "25         2    0    0    0    0    0    0    0    0    0  ...      0      0   \n",
      "26         4    0    0    0    0    0    0    0    0    0  ...      0      0   \n",
      "27         3    0    0    0    0    0    0    0    0    0  ...      0      0   \n",
      "28         2    0    0    0    0    0    0    0    0    0  ...      0      0   \n",
      "29         7    0    0    0    0    0    0    0    0    0  ...      0      0   \n",
      "...      ...  ...  ...  ...  ...  ...  ...  ...  ...  ...  ...    ...    ...   \n",
      "59970      2    0    0    0    0    0    0    0    0    0  ...      0      0   \n",
      "59971      2    0    0    0    0    0    0    0    0    0  ...      0      0   \n",
      "59972      0    0    0    0    0    0    0    0    0    0  ...      0      0   \n",
      "59973      9    0    0    0    0    0    0    0    0    0  ...      0      0   \n",
      "59974      2    0    0    0    0    0    0    0    0    0  ...      0      0   \n",
      "59975      4    0    0    0    0    0    0    0    0    0  ...      0      0   \n",
      "59976      6    0    0    0    0    0    0    0    0    0  ...      0      0   \n",
      "59977      7    0    0    0    0    0    0    0    0    0  ...      0      0   \n",
      "59978      3    0    0    0    0    0    0    0    0    0  ...      0      0   \n",
      "59979      1    0    0    0    0    0    0    0    0    0  ...      0      0   \n",
      "59980      3    0    0    0    0    0    0    0    0    0  ...      0      0   \n",
      "59981      6    0    0    0    0    0    0    0    0    0  ...      0      0   \n",
      "59982      6    0    0    0    0    0    0    0    0    0  ...      0      0   \n",
      "59983      2    0    0    0    0    0    0    0    0    0  ...      0      0   \n",
      "59984      1    0    0    0    0    0    0    0    0    0  ...      0      0   \n",
      "59985      2    0    0    0    0    0    0    0    0    0  ...      0      0   \n",
      "59986      6    0    0    0    0    0    0    0    0    0  ...      0      0   \n",
      "59987      0    0    0    0    0    0    0    0    0    0  ...      0      0   \n",
      "59988      7    0    0    0    0    0    0    0    0    0  ...      0      0   \n",
      "59989      8    0    0    0    0    0    0    0    0    0  ...      0      0   \n",
      "59990      9    0    0    0    0    0    0    0    0    0  ...      0      0   \n",
      "59991      2    0    0    0    0    0    0    0    0    0  ...      0      0   \n",
      "59992      9    0    0    0    0    0    0    0    0    0  ...      0      0   \n",
      "59993      5    0    0    0    0    0    0    0    0    0  ...      0      0   \n",
      "59994      1    0    0    0    0    0    0    0    0    0  ...      0      0   \n",
      "59995      8    0    0    0    0    0    0    0    0    0  ...      0      0   \n",
      "59996      3    0    0    0    0    0    0    0    0    0  ...      0      0   \n",
      "59997      5    0    0    0    0    0    0    0    0    0  ...      0      0   \n",
      "59998      6    0    0    0    0    0    0    0    0    0  ...      0      0   \n",
      "59999      8    0    0    0    0    0    0    0    0    0  ...      0      0   \n",
      "\n",
      "       28x21  28x22  28x23  28x24  28x25  28x26  28x27  28x28  \n",
      "0          0      0      0      0      0      0      0      0  \n",
      "1          0      0      0      0      0      0      0      0  \n",
      "2          0      0      0      0      0      0      0      0  \n",
      "3          0      0      0      0      0      0      0      0  \n",
      "4          0      0      0      0      0      0      0      0  \n",
      "5          0      0      0      0      0      0      0      0  \n",
      "6          0      0      0      0      0      0      0      0  \n",
      "7          0      0      0      0      0      0      0      0  \n",
      "8          0      0      0      0      0      0      0      0  \n",
      "9          0      0      0      0      0      0      0      0  \n",
      "10         0      0      0      0      0      0      0      0  \n",
      "11         0      0      0      0      0      0      0      0  \n",
      "12         0      0      0      0      0      0      0      0  \n",
      "13         0      0      0      0      0      0      0      0  \n",
      "14         0      0      0      0      0      0      0      0  \n",
      "15         0      0      0      0      0      0      0      0  \n",
      "16         0      0      0      0      0      0      0      0  \n",
      "17         0      0      0      0      0      0      0      0  \n",
      "18         0      0      0      0      0      0      0      0  \n",
      "19         0      0      0      0      0      0      0      0  \n",
      "20         0      0      0      0      0      0      0      0  \n",
      "21         0      0      0      0      0      0      0      0  \n",
      "22         0      0      0      0      0      0      0      0  \n",
      "23         0      0      0      0      0      0      0      0  \n",
      "24         0      0      0      0      0      0      0      0  \n",
      "25         0      0      0      0      0      0      0      0  \n",
      "26         0      0      0      0      0      0      0      0  \n",
      "27         0      0      0      0      0      0      0      0  \n",
      "28         0      0      0      0      0      0      0      0  \n",
      "29         0      0      0      0      0      0      0      0  \n",
      "...      ...    ...    ...    ...    ...    ...    ...    ...  \n",
      "59970      0      0      0      0      0      0      0      0  \n",
      "59971      0      0      0      0      0      0      0      0  \n",
      "59972      0      0      0      0      0      0      0      0  \n",
      "59973      0      0      0      0      0      0      0      0  \n",
      "59974      0      0      0      0      0      0      0      0  \n",
      "59975      0      0      0      0      0      0      0      0  \n",
      "59976      0      0      0      0      0      0      0      0  \n",
      "59977      0      0      0      0      0      0      0      0  \n",
      "59978      0      0      0      0      0      0      0      0  \n",
      "59979      0      0      0      0      0      0      0      0  \n",
      "59980      0      0      0      0      0      0      0      0  \n",
      "59981      0      0      0      0      0      0      0      0  \n",
      "59982      0      0      0      0      0      0      0      0  \n",
      "59983      0      0      0      0      0      0      0      0  \n",
      "59984      0      0      0      0      0      0      0      0  \n",
      "59985      0      0      0      0      0      0      0      0  \n",
      "59986      0      0      0      0      0      0      0      0  \n",
      "59987      0      0      0      0      0      0      0      0  \n",
      "59988      0      0      0      0      0      0      0      0  \n",
      "59989      0      0      0      0      0      0      0      0  \n",
      "59990      0      0      0      0      0      0      0      0  \n",
      "59991      0      0      0      0      0      0      0      0  \n",
      "59992      0      0      0      0      0      0      0      0  \n",
      "59993      0      0      0      0      0      0      0      0  \n",
      "59994      0      0      0      0      0      0      0      0  \n",
      "59995      0      0      0      0      0      0      0      0  \n",
      "59996      0      0      0      0      0      0      0      0  \n",
      "59997      0      0      0      0      0      0      0      0  \n",
      "59998      0      0      0      0      0      0      0      0  \n",
      "59999      0      0      0      0      0      0      0      0  \n",
      "\n",
      "[60000 rows x 785 columns]\n"
     ]
    }
   ],
   "source": [
    "print(mnist)"
   ]
  },
  {
   "cell_type": "code",
   "execution_count": 5,
   "metadata": {},
   "outputs": [],
   "source": [
    "data = mnist.values"
   ]
  },
  {
   "cell_type": "code",
   "execution_count": 6,
   "metadata": {},
   "outputs": [
    {
     "name": "stdout",
     "output_type": "stream",
     "text": [
      "<class 'numpy.ndarray'>\n",
      "(60000, 785)\n"
     ]
    }
   ],
   "source": [
    "print(type(data))\n",
    "print(data.shape)"
   ]
  },
  {
   "cell_type": "code",
   "execution_count": 7,
   "metadata": {},
   "outputs": [
    {
     "name": "stdout",
     "output_type": "stream",
     "text": [
      "(60000, 784)\n",
      "(60000,)\n"
     ]
    }
   ],
   "source": [
    "X = data[:,1:]\n",
    "Y = data[:,0]\n",
    "print(X.shape)\n",
    "print(Y.shape)"
   ]
  },
  {
   "cell_type": "code",
   "execution_count": 8,
   "metadata": {},
   "outputs": [
    {
     "name": "stdout",
     "output_type": "stream",
     "text": [
      "7\n"
     ]
    }
   ],
   "source": [
    "example = X[42].reshape(28,28)\n",
    "print(Y[42])"
   ]
  },
  {
   "cell_type": "markdown",
   "metadata": {},
   "source": [
    "Here, the image also should contain 7."
   ]
  },
  {
   "cell_type": "code",
   "execution_count": 9,
   "metadata": {},
   "outputs": [
    {
     "data": {
      "image/png": "[encoded data removed]",
      "text/plain": [
       "<Figure size 432x288 with 1 Axes>"
      ]
     },
     "metadata": {
      "needs_background": "light"
     },
     "output_type": "display_data"
    }
   ],
   "source": [
    "plt.imshow(example, cmap='gray')\n",
    "plt.show()"
   ]
  },
  {
   "cell_type": "markdown",
   "metadata": {},
   "source": [
    "## Splitting the Datasets"
   ]
  },
  {
   "cell_type": "markdown",
   "metadata": {},
   "source": [
    "Let's divide the dataset into training set and test set in the ratio of ```7:3```."
   ]
  },
  {
   "cell_type": "code",
   "execution_count": 10,
   "metadata": {},
   "outputs": [
    {
     "name": "stdout",
     "output_type": "stream",
     "text": [
      "42000\n"
     ]
    }
   ],
   "source": [
    "split = int(0.7 * X.shape[0])\n",
    "print(split)"
   ]
  },
  {
   "cell_type": "code",
   "execution_count": 11,
   "metadata": {},
   "outputs": [
    {
     "name": "stdout",
     "output_type": "stream",
     "text": [
      "(42000, 784) (42000,)\n",
      "(18000, 784) (18000,)\n"
     ]
    }
   ],
   "source": [
    "X_train, Y_train = X[:split], Y[:split]\n",
    "X_test, Y_test = X[split:], Y[split:]\n",
    "print(X_train.shape, Y_train.shape)\n",
    "print(X_test.shape, Y_test.shape)"
   ]
  },
  {
   "cell_type": "markdown",
   "metadata": {},
   "source": [
    "### Split using Scikit"
   ]
  },
  {
   "cell_type": "code",
   "execution_count": 12,
   "metadata": {},
   "outputs": [],
   "source": [
    "from sklearn.model_selection import train_test_split"
   ]
  },
  {
   "cell_type": "code",
   "execution_count": 13,
   "metadata": {},
   "outputs": [],
   "source": [
    "X_train, X_test, Y_train, Y_test = train_test_split(X, Y, test_size=0.3)"
   ]
  },
  {
   "cell_type": "code",
   "execution_count": 14,
   "metadata": {},
   "outputs": [
    {
     "name": "stdout",
     "output_type": "stream",
     "text": [
      "(42000, 784) (42000,)\n",
      "(18000, 784) (18000,)\n"
     ]
    }
   ],
   "source": [
    "print(X_train.shape, Y_train.shape)\n",
    "print(X_test.shape, Y_test.shape)"
   ]
  },
  {
   "cell_type": "markdown",
   "metadata": {},
   "source": [
    "Either splitting like [11] or using Scikit, we can split according to our need and requirement."
   ]
  }
 ],
 "metadata": {
  "kernelspec": {
   "display_name": "Python 3",
   "language": "python",
   "name": "python3"
  },
  "language_info": {
   "codemirror_mode": {
    "name": "ipython",
    "version": 3
   },
   "file_extension": ".py",
   "mimetype": "text/x-python",
   "name": "python",
   "nbconvert_exporter": "python",
   "pygments_lexer": "ipython3",
   "version": "3.7.3"
  }
 },
 "nbformat": 4,
 "nbformat_minor": 2
}
